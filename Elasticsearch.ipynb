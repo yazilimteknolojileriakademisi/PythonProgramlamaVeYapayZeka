{
 "cells": [
  {
   "cell_type": "markdown",
   "id": "8604e685",
   "metadata": {},
   "source": [
    "# &nbsp;&nbsp;&nbsp;&nbsp;&nbsp;&nbsp;&nbsp;&nbsp;&nbsp;&nbsp;&nbsp;&nbsp;&nbsp;&nbsp;&nbsp;&nbsp;&nbsp;&nbsp;&nbsp;&nbsp;&nbsp;&nbsp;&nbsp;&nbsp;&nbsp;&nbsp;&nbsp;&nbsp;&nbsp;&nbsp;&nbsp;&nbsp;&nbsp;&nbsp;&nbsp;&nbsp;&nbsp;&nbsp;&nbsp;&nbsp;&nbsp;&nbsp;&nbsp;&nbsp;&nbsp;&nbsp;&nbsp;&nbsp;&nbsp;&nbsp;&nbsp;&nbsp;&nbsp;ELASTIC SEARCH \n",
    "<IMG src=\"./elasticsearch-logo.png\" width=\"100\" height=\"100\" >\n",
    "    \n",
    "Index — Database\n",
    "\n",
    "Datatype — Type of the document\n",
    "\n",
    "Id — Id of the document\n",
    "    \n",
    "Elasticsearch kütüphanesini kullanmadan önce aşağıdaki komutla Anaconda Python sistemimize elasticsearch modülünü eklememiz gerekiyor, bu amaçla MSDOS komut satırından aşağıdaki komutu çalıştırın:\n",
    "\n",
    "conda install elasticsearch \n"
   ]
  },
  {
   "cell_type": "code",
   "execution_count": 1,
   "id": "be2c7949",
   "metadata": {},
   "outputs": [
    {
     "data": {
      "text/plain": [
       "<Elasticsearch([{'host': 'localhost', 'port': 9200}])>"
      ]
     },
     "execution_count": 1,
     "metadata": {},
     "output_type": "execute_result"
    }
   ],
   "source": [
    "# Import Elasticsearch package \n",
    "from elasticsearch import Elasticsearch \n",
    "\n",
    "# elastic clusterına bağlanalım..\n",
    "es=Elasticsearch([{'host':'localhost','port':9200}])\n",
    "es\n"
   ]
  },
  {
   "cell_type": "code",
   "execution_count": 2,
   "id": "66d32774",
   "metadata": {},
   "outputs": [
    {
     "name": "stdout",
     "output_type": "stream",
     "text": [
      "{'first_name': 'Nihat', 'last_name': 'Pancar', 'age': 27, 'about': 'Love to play cricket', 'interests': ['sports', 'music']}\n"
     ]
    }
   ],
   "source": [
    "# Employee yani çalışan bilgilerini elasticsearch sistemimize ekleyeceğiz..\n",
    "e1={\n",
    "    \"first_name\":\"Nihat\",\n",
    "    \"last_name\":\"Pancar\",\n",
    "    \"age\": 27,\n",
    "    \"about\": \"Love to play cricket\",\n",
    "    \"interests\": ['sports','music'],\n",
    "}\n",
    "print(e1)\n"
   ]
  },
  {
   "cell_type": "markdown",
   "id": "3a43519c",
   "metadata": {},
   "source": [
    "### Inserting a document:"
   ]
  },
  {
   "cell_type": "code",
   "execution_count": 3,
   "id": "e447eec4",
   "metadata": {},
   "outputs": [
    {
     "name": "stderr",
     "output_type": "stream",
     "text": [
      "C:\\users\\sungu\\Anaconda3\\lib\\site-packages\\elasticsearch\\connection\\base.py:200: ElasticsearchWarning: Elasticsearch built-in security features are not enabled. Without authentication, your cluster could be accessible to anyone. See https://www.elastic.co/guide/en/elasticsearch/reference/7.13/security-minimal-setup.html to enable security.\n",
      "  warnings.warn(message, category=ElasticsearchWarning)\n"
     ]
    }
   ],
   "source": [
    "# Şimdi bu dökümanı Elasticsearch içinde saklayalım..\n",
    "res = es.index(index='sirketpersonelvt',id=1,body=e1)"
   ]
  },
  {
   "cell_type": "markdown",
   "id": "5139cc65",
   "metadata": {},
   "source": [
    "##### Birkaç kişi daha ekleyelim:"
   ]
  },
  {
   "cell_type": "code",
   "execution_count": 4,
   "id": "ad0d9748",
   "metadata": {},
   "outputs": [],
   "source": [
    "# 2 kişi daha ekleyelim..\n",
    "e2={\n",
    "    \"first_name\" :  \"Can\",\n",
    "    \"last_name\" :   \"Soykan\",\n",
    "    \"age\" :         32,\n",
    "    \"about\" :       \"I like to collect rock albums\",\n",
    "    \"interests\":  [ \"music\" ]\n",
    "}\n",
    "e3={\n",
    "    \"first_name\" :  \"Demir\",\n",
    "    \"last_name\" :   \"Firat\",\n",
    "    \"age\" :         35,\n",
    "    \"about\":        \"I like to build cabinets\",\n",
    "    \"interests\":  [ \"forestry\" ]\n",
    "}\n",
    "res=es.index(index='sirketpersonelvt', id=2,body=e2)\n",
    "\n",
    "res=es.index(index='sirketpersonelvt', id=3,body=e3)\n"
   ]
  },
  {
   "cell_type": "markdown",
   "id": "c67808d2",
   "metadata": {},
   "source": [
    "#### Bir Dökümanı Sistemden Sorgulama Yaparak Bulalım:"
   ]
  },
  {
   "cell_type": "code",
   "execution_count": 5,
   "id": "59edfc53",
   "metadata": {},
   "outputs": [
    {
     "name": "stdout",
     "output_type": "stream",
     "text": [
      "{'_index': 'sirketpersonelvt', '_type': '_doc', '_id': '3', '_version': 1, '_seq_no': 2, '_primary_term': 1, 'found': True, '_source': {'first_name': 'Demir', 'last_name': 'Firat', 'age': 35, 'about': 'I like to build cabinets', 'interests': ['forestry']}}\n"
     ]
    }
   ],
   "source": [
    "res=es.get(index='sirketpersonelvt',id=3)\n",
    "print(res)"
   ]
  },
  {
   "cell_type": "markdown",
   "id": "6524a790",
   "metadata": {},
   "source": [
    "Esas döküman metni yani actual document ‘_source’ fieldinin içinde:"
   ]
  },
  {
   "cell_type": "code",
   "execution_count": 6,
   "id": "ede05e70",
   "metadata": {},
   "outputs": [
    {
     "name": "stdout",
     "output_type": "stream",
     "text": [
      "{'first_name': 'Demir', 'last_name': 'Firat', 'age': 35, 'about': 'I like to build cabinets', 'interests': ['forestry']}\n"
     ]
    }
   ],
   "source": [
    "print(res['_source'])"
   ]
  },
  {
   "cell_type": "markdown",
   "id": "fe663bec",
   "metadata": {},
   "source": [
    "#### Bir dökümanı silmek:"
   ]
  },
  {
   "cell_type": "code",
   "execution_count": 7,
   "id": "864bda6d",
   "metadata": {},
   "outputs": [
    {
     "name": "stdout",
     "output_type": "stream",
     "text": [
      "deleted\n"
     ]
    }
   ],
   "source": [
    "res=es.delete(index='sirketpersonelvt', id=3)\n",
    "print(res['result'])"
   ]
  },
  {
   "cell_type": "code",
   "execution_count": 8,
   "id": "bedb0f86",
   "metadata": {},
   "outputs": [
    {
     "name": "stdout",
     "output_type": "stream",
     "text": [
      "{'took': 678, 'timed_out': False, '_shards': {'total': 1, 'successful': 1, 'skipped': 0, 'failed': 0}, 'hits': {'total': {'value': 2, 'relation': 'eq'}, 'max_score': 1.0, 'hits': [{'_index': 'sirketpersonelvt', '_type': '_doc', '_id': '1', '_score': 1.0, '_source': {'first_name': 'Nihat', 'last_name': 'Pancar', 'age': 27, 'about': 'Love to play cricket', 'interests': ['sports', 'music']}}, {'_index': 'sirketpersonelvt', '_type': '_doc', '_id': '2', '_score': 1.0, '_source': {'first_name': 'Can', 'last_name': 'Soykan', 'age': 32, 'about': 'I like to collect rock albums', 'interests': ['music']}}]}}\n"
     ]
    }
   ],
   "source": [
    "# sirketpersonelvt indexi içndeki tüm kayıtları sorgulayalım..\n",
    "res= es.search(index='sirketpersonelvt',body={'query':{'match_all':{}}})\n",
    "print(res)"
   ]
  },
  {
   "cell_type": "code",
   "execution_count": 9,
   "id": "257f609d",
   "metadata": {},
   "outputs": [
    {
     "name": "stdout",
     "output_type": "stream",
     "text": [
      "[{'_index': 'sirketpersonelvt', '_type': '_doc', '_id': '1', '_score': 1.0, '_source': {'first_name': 'Nihat', 'last_name': 'Pancar', 'age': 27, 'about': 'Love to play cricket', 'interests': ['sports', 'music']}}, {'_index': 'sirketpersonelvt', '_type': '_doc', '_id': '2', '_score': 1.0, '_source': {'first_name': 'Can', 'last_name': 'Soykan', 'age': 32, 'about': 'I like to collect rock albums', 'interests': ['music']}}]\n"
     ]
    }
   ],
   "source": [
    "# Bu sonucun uzun hali, bunu kısaltmak için :\n",
    "print(res['hits']['hits'])"
   ]
  },
  {
   "cell_type": "markdown",
   "id": "18f2e604",
   "metadata": {},
   "source": [
    "### match operator:"
   ]
  },
  {
   "cell_type": "code",
   "execution_count": 10,
   "id": "7d8b27b7",
   "metadata": {},
   "outputs": [],
   "source": [
    "# İsmi Nihat olan dökümanları bulalım..\n",
    "res= es.search(index='sirketpersonelvt',body={'query':{'match':{'first_name':'Nihat'}}})\n"
   ]
  },
  {
   "cell_type": "code",
   "execution_count": 11,
   "id": "aa5bf296",
   "metadata": {},
   "outputs": [
    {
     "name": "stdout",
     "output_type": "stream",
     "text": [
      "{'took': 2, 'timed_out': False, '_shards': {'total': 1, 'successful': 1, 'skipped': 0, 'failed': 0}, 'hits': {'total': {'value': 1, 'relation': 'eq'}, 'max_score': 0.9808291, 'hits': [{'_index': 'sirketpersonelvt', '_type': '_doc', '_id': '1', '_score': 0.9808291, '_source': {'first_name': 'Nihat', 'last_name': 'Pancar', 'age': 27, 'about': 'Love to play cricket', 'interests': ['sports', 'music']}}]}}\n"
     ]
    }
   ],
   "source": [
    "# Sonuca bakalım:\n",
    "print(res)"
   ]
  },
  {
   "cell_type": "code",
   "execution_count": 12,
   "id": "432239de",
   "metadata": {},
   "outputs": [
    {
     "name": "stdout",
     "output_type": "stream",
     "text": [
      "[{'_index': 'sirketpersonelvt', '_type': '_doc', '_id': '1', '_score': 0.9808291, '_source': {'first_name': 'Nihat', 'last_name': 'Pancar', 'age': 27, 'about': 'Love to play cricket', 'interests': ['sports', 'music']}}]\n"
     ]
    }
   ],
   "source": [
    "# Bu sonucun uzun hali, bunu kısaltmak için :\n",
    "print(res['hits']['hits'])"
   ]
  },
  {
   "cell_type": "markdown",
   "id": "3cdfccd7",
   "metadata": {},
   "source": [
    "### Full text search"
   ]
  },
  {
   "cell_type": "code",
   "execution_count": 13,
   "id": "0b97bd32",
   "metadata": {},
   "outputs": [],
   "source": [
    "# Bir kayıt daha ekleyelim..\n",
    "e4={\n",
    "    \"first_name\":\"Ali\",\n",
    "    \"last_name\":\"Erkan\",\n",
    "    \"age\": 27,\n",
    "    \"about\": \"Love to play football\",\n",
    "    \"interests\": ['sports','music'],\n",
    "}\n",
    "res=es.index(index='sirketpersonelvt', id=4, body=e4)\n"
   ]
  },
  {
   "cell_type": "code",
   "execution_count": 14,
   "id": "95632c8f",
   "metadata": {},
   "outputs": [
    {
     "name": "stdout",
     "output_type": "stream",
     "text": [
      "Love to play cricket\n",
      "2.0281231\n",
      "**********************\n",
      "Love to play football\n",
      "0.74101156\n",
      "**********************\n"
     ]
    }
   ],
   "source": [
    "# Şimdi search yapalım:\n",
    "res= es.search(index='sirketpersonelvt', body={\n",
    "        'query':{\n",
    "            'match':{\n",
    "                \"about\":\"play cricket\"\n",
    "            }\n",
    "        }\n",
    "    })\n",
    "for hit in res['hits']['hits']:\n",
    "    print(hit['_source']['about'])\n",
    "    print(hit['_score'])\n",
    "    print('**********************')"
   ]
  },
  {
   "cell_type": "markdown",
   "id": "db8284a0",
   "metadata": {},
   "source": [
    "### Phrase Search\n",
    "\n",
    "Phrase Search ile tüm kelimelerin birebir aynı olan eşlenikleri aranır.."
   ]
  },
  {
   "cell_type": "code",
   "execution_count": 15,
   "id": "e57718af",
   "metadata": {},
   "outputs": [
    {
     "name": "stdout",
     "output_type": "stream",
     "text": [
      "Love to play cricket\n",
      "2.0281231\n",
      "**********************\n"
     ]
    }
   ],
   "source": [
    "res= es.search(index='sirketpersonelvt', body={\n",
    "        'query':{\n",
    "            'match_phrase':{\n",
    "                \"about\":\"play cricket\"\n",
    "            }\n",
    "        }\n",
    "    })\n",
    "for hit in res['hits']['hits']:\n",
    "    print(hit['_source']['about']) \n",
    "    print(hit['_score'])\n",
    "    print('**********************')"
   ]
  },
  {
   "cell_type": "code",
   "execution_count": null,
   "id": "052499a4",
   "metadata": {},
   "outputs": [],
   "source": []
  },
  {
   "cell_type": "code",
   "execution_count": null,
   "id": "48aea7e8",
   "metadata": {},
   "outputs": [],
   "source": []
  },
  {
   "cell_type": "code",
   "execution_count": null,
   "id": "8568e1b7",
   "metadata": {},
   "outputs": [],
   "source": []
  },
  {
   "cell_type": "code",
   "execution_count": null,
   "id": "cdcbc6eb",
   "metadata": {},
   "outputs": [],
   "source": []
  },
  {
   "cell_type": "code",
   "execution_count": null,
   "id": "7d22063a",
   "metadata": {},
   "outputs": [],
   "source": []
  }
 ],
 "metadata": {
  "kernelspec": {
   "display_name": "Python 3",
   "language": "python",
   "name": "python3"
  },
  "language_info": {
   "codemirror_mode": {
    "name": "ipython",
    "version": 3
   },
   "file_extension": ".py",
   "mimetype": "text/x-python",
   "name": "python",
   "nbconvert_exporter": "python",
   "pygments_lexer": "ipython3",
   "version": "3.8.8"
  }
 },
 "nbformat": 4,
 "nbformat_minor": 5
}
