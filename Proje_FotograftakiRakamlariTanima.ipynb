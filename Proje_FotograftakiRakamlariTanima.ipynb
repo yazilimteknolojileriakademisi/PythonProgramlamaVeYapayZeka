{
 "cells": [
  {
   "cell_type": "markdown",
   "id": "aa63f834",
   "metadata": {},
   "source": [
    "# MACHINE LEARNING PROJECT"
   ]
  },
  {
   "cell_type": "markdown",
   "id": "97139e33",
   "metadata": {},
   "source": [
    "## Fotoğraflardaki El Yazısı Rakamları Otomatik Tanıma ve Anlamlandırma"
   ]
  },
  {
   "cell_type": "markdown",
   "id": "a4571d2c",
   "metadata": {},
   "source": [
    "Projemizde kullanacağımız MNIST elyazısı rakamları veritabanında(sklearn içinde gelmektedir) 784 feature sütunu mevcut (784 dimensions), ve training set olarak 60,000 örnek veri ve a 10,000 örneklik test seti bulunmaktadır."
   ]
  },
  {
   "cell_type": "code",
   "execution_count": 1,
   "id": "94c60f44",
   "metadata": {},
   "outputs": [],
   "source": [
    "import pandas as pd\n",
    "from matplotlib import pyplot as plt\n",
    "from sklearn.preprocessing import StandardScaler\n",
    "from sklearn.decomposition import PCA\n",
    "from sklearn.datasets import fetch_openml  # mnist datasetini yüklemek için gerekli...\n",
    "from sklearn.linear_model import LogisticRegression\n",
    "from sklearn.model_selection import train_test_split\n",
    "\n",
    "\n",
    "# Bu işlem 1-2 dk sürebilir..\n",
    "mnist = fetch_openml('mnist_784')"
   ]
  },
  {
   "cell_type": "code",
   "execution_count": 2,
   "id": "b997e898",
   "metadata": {},
   "outputs": [
    {
     "data": {
      "text/plain": [
       "(70000, 784)"
      ]
     },
     "execution_count": 2,
     "metadata": {},
     "output_type": "execute_result"
    }
   ],
   "source": [
    "mnist.data.shape\n"
   ]
  },
  {
   "cell_type": "markdown",
   "id": "3240aaf8",
   "metadata": {},
   "source": [
    "### Mnist veriseti içindeki rakam fotoğraflarını görmek için bir fonksiyon tanımlayalım:"
   ]
  },
  {
   "cell_type": "code",
   "execution_count": 3,
   "id": "dd117cf6",
   "metadata": {},
   "outputs": [],
   "source": [
    "# Parametre olarak dataframe ve ilgili veri fotoğrafının index numarasını alsın..\n",
    "def showimage(dframe, index):    \n",
    "    some_digit = dframe.to_numpy()[index]\n",
    "    some_digit_image = some_digit.reshape(28,28)\n",
    "\n",
    "    plt.imshow(some_digit_image,cmap=\"binary\")\n",
    "    plt.axis(\"off\")\n",
    "    plt.show()"
   ]
  },
  {
   "cell_type": "code",
   "execution_count": 8,
   "id": "7d60d25d",
   "metadata": {},
   "outputs": [
    {
     "data": {
      "image/png": "[encoded data removed]",
      "text/plain": [
       "<Figure size 432x288 with 1 Axes>"
      ]
     },
     "metadata": {
      "needs_background": "light"
     },
     "output_type": "display_data"
    }
   ],
   "source": [
    "# Örnek kullanım:\n",
    "showimage(mnist.data, 0)"
   ]
  },
  {
   "cell_type": "markdown",
   "id": "0d8f06f9",
   "metadata": {},
   "source": [
    "70,000 image dosyası, her bir image için 784 boyut(784 feature) mevcut."
   ]
  },
  {
   "cell_type": "markdown",
   "id": "76995875",
   "metadata": {},
   "source": [
    "### Split Data -> Training Set ve Test Set"
   ]
  },
  {
   "cell_type": "code",
   "execution_count": 9,
   "id": "e7198fb4",
   "metadata": {},
   "outputs": [],
   "source": [
    "\n",
    "# test ve train oranı 1/7 ve 6/7\n",
    "train_img, test_img, train_lbl, test_lbl = train_test_split( mnist.data, mnist.target, test_size=1/7.0, random_state=0)"
   ]
  },
  {
   "cell_type": "code",
   "execution_count": 10,
   "id": "7bce83b2",
   "metadata": {},
   "outputs": [
    {
     "data": {
      "text/plain": [
       "pandas.core.frame.DataFrame"
      ]
     },
     "execution_count": 10,
     "metadata": {},
     "output_type": "execute_result"
    }
   ],
   "source": [
    "type(train_img)"
   ]
  },
  {
   "cell_type": "code",
   "execution_count": 11,
   "id": "86c0040b",
   "metadata": {},
   "outputs": [],
   "source": [
    "# Rakam tahminlerimizi check etmek için train_img dataframeini kopyalıyoruz, çünkü az sonra değişecek..\n",
    "test_img_copy = test_img.copy()"
   ]
  },
  {
   "cell_type": "code",
   "execution_count": 14,
   "id": "0077dd01",
   "metadata": {},
   "outputs": [
    {
     "data": {
      "image/png": "[encoded data removed]",
      "text/plain": [
       "<Figure size 432x288 with 1 Axes>"
      ]
     },
     "metadata": {
      "needs_background": "light"
     },
     "output_type": "display_data"
    }
   ],
   "source": [
    "showimage(test_img_copy, 2)"
   ]
  },
  {
   "cell_type": "markdown",
   "id": "195cddbc",
   "metadata": {},
   "source": [
    "### Verilerimizi Scale etmemiz gerekiyor:\n",
    "\n",
    "Çünkü PCA scale edilmemiş verilerde hatalı sonuçlar verebiliyor bu nedenle mutlaka scaling işleminden geçiriyoruz. \n",
    "Bu amaçla da StandardScaler kullanıyoruz..."
   ]
  },
  {
   "cell_type": "code",
   "execution_count": 15,
   "id": "770df8d0",
   "metadata": {},
   "outputs": [],
   "source": [
    "scaler = StandardScaler()\n",
    "\n",
    "# Scaler'ı sadece training set üzerinde fit yapmamız yeterli..\n",
    "scaler.fit(train_img)\n",
    "\n",
    "# Ama transform işlemini hem training sete hem de test sete yapmamız gerekiyor..\n",
    "train_img = scaler.transform(train_img)\n",
    "test_img = scaler.transform(test_img)"
   ]
  },
  {
   "cell_type": "markdown",
   "id": "797d423b",
   "metadata": {},
   "source": [
    "### PCA işlemini uyguluyoruz..\n",
    "\n",
    "Variance'ın 95% oranında korunmasını istediğimizi belirtiyoruz.."
   ]
  },
  {
   "cell_type": "code",
   "execution_count": 16,
   "id": "16cdd679",
   "metadata": {},
   "outputs": [],
   "source": [
    "# Make an instance of the Model\n",
    "pca = PCA(.95)"
   ]
  },
  {
   "cell_type": "code",
   "execution_count": 17,
   "id": "39c29090",
   "metadata": {},
   "outputs": [
    {
     "data": {
      "text/plain": [
       "PCA(n_components=0.95)"
      ]
     },
     "execution_count": 17,
     "metadata": {},
     "output_type": "execute_result"
    }
   ],
   "source": [
    "# PCA'i sadece training sete yapmamız yeterli: (1 dk sürebilir)\n",
    "pca.fit(train_img)"
   ]
  },
  {
   "cell_type": "code",
   "execution_count": 18,
   "id": "101db2f1",
   "metadata": {},
   "outputs": [
    {
     "name": "stdout",
     "output_type": "stream",
     "text": [
      "327\n"
     ]
    }
   ],
   "source": [
    "# Bakalım 784 boyutu kaç boyuta düşürebilmiş (%95 variance'ı koruyarak tabiiki)\n",
    "print(pca.n_components_)"
   ]
  },
  {
   "cell_type": "code",
   "execution_count": 19,
   "id": "b924057d",
   "metadata": {},
   "outputs": [],
   "source": [
    "# Şimdi transform işlemiyle hem train hem de test veri setimizin boyutlarını 784'ten 327'e düşürelim:\n",
    "train_img = pca.transform(train_img)\n",
    "test_img = pca.transform(test_img)"
   ]
  },
  {
   "cell_type": "markdown",
   "id": "8eac3fb0",
   "metadata": {},
   "source": [
    "## 2. Aşama\n",
    "\n",
    "Şimdi 2. Makine Öğrenmesi modelimiz olan Logistic Regression modelimizi PCA işleminden geçirilmiş veris etimiz üzerinde uygulayacağız."
   ]
  },
  {
   "cell_type": "code",
   "execution_count": 20,
   "id": "ea4106cf",
   "metadata": {},
   "outputs": [],
   "source": [
    "# default solver çok yavaş çalıştığı için daha hızlı olan 'lbfgs' solverı seçerek logisticregression nesnemizi oluşturuyoruz.\n",
    "logisticRegr = LogisticRegression(solver = 'lbfgs', max_iter=10000)"
   ]
  },
  {
   "cell_type": "markdown",
   "id": "7fd3258c",
   "metadata": {},
   "source": [
    "### LogisticRegression Modelimizi train datamızı kullanarak eğitiyoruz:"
   ]
  },
  {
   "cell_type": "code",
   "execution_count": 21,
   "id": "ee86acc3",
   "metadata": {},
   "outputs": [
    {
     "data": {
      "text/plain": [
       "LogisticRegression(max_iter=10000)"
      ]
     },
     "execution_count": 21,
     "metadata": {},
     "output_type": "execute_result"
    }
   ],
   "source": [
    "# (Birkaç dk sürebilir)\n",
    "logisticRegr.fit(train_img, train_lbl)"
   ]
  },
  {
   "cell_type": "markdown",
   "id": "019a2f52",
   "metadata": {},
   "source": [
    "#### Modelimiz eğitildi şimdi el yazısı rakamları makine öğrenmesi ile tanıma işlemini gerçekletirelim:"
   ]
  },
  {
   "cell_type": "code",
   "execution_count": 23,
   "id": "c1ae7036",
   "metadata": {},
   "outputs": [
    {
     "data": {
      "text/plain": [
       "array(['0'], dtype=object)"
      ]
     },
     "execution_count": 23,
     "metadata": {},
     "output_type": "execute_result"
    }
   ],
   "source": [
    "logisticRegr.predict(test_img[0].reshape(1,-1))"
   ]
  },
  {
   "cell_type": "code",
   "execution_count": 22,
   "id": "3b18aabb",
   "metadata": {},
   "outputs": [
    {
     "data": {
      "image/png": "[encoded data removed]",
      "text/plain": [
       "<Figure size 432x288 with 1 Axes>"
      ]
     },
     "metadata": {
      "needs_background": "light"
     },
     "output_type": "display_data"
    }
   ],
   "source": [
    "showimage(test_img_copy, 0)"
   ]
  },
  {
   "cell_type": "code",
   "execution_count": 25,
   "id": "a2ca49b6",
   "metadata": {},
   "outputs": [
    {
     "data": {
      "text/plain": [
       "array(['4'], dtype=object)"
      ]
     },
     "execution_count": 25,
     "metadata": {},
     "output_type": "execute_result"
    }
   ],
   "source": [
    "logisticRegr.predict(test_img[1].reshape(1,-1))"
   ]
  },
  {
   "cell_type": "code",
   "execution_count": 24,
   "id": "dd2bdd26",
   "metadata": {},
   "outputs": [
    {
     "data": {
      "image/png": "[encoded data removed]",
      "text/plain": [
       "<Figure size 432x288 with 1 Axes>"
      ]
     },
     "metadata": {
      "needs_background": "light"
     },
     "output_type": "display_data"
    }
   ],
   "source": [
    "showimage(test_img_copy, 1)"
   ]
  },
  {
   "cell_type": "code",
   "execution_count": 26,
   "id": "8ae50d34",
   "metadata": {},
   "outputs": [
    {
     "data": {
      "image/png": "[encoded data removed]",
      "text/plain": [
       "<Figure size 432x288 with 1 Axes>"
      ]
     },
     "metadata": {
      "needs_background": "light"
     },
     "output_type": "display_data"
    }
   ],
   "source": [
    "showimage(test_img_copy, 9900)"
   ]
  },
  {
   "cell_type": "code",
   "execution_count": 27,
   "id": "0e402693",
   "metadata": {},
   "outputs": [
    {
     "data": {
      "text/plain": [
       "array(['8'], dtype=object)"
      ]
     },
     "execution_count": 27,
     "metadata": {},
     "output_type": "execute_result"
    }
   ],
   "source": [
    "logisticRegr.predict(test_img[9900].reshape(1,-1))"
   ]
  },
  {
   "cell_type": "code",
   "execution_count": null,
   "id": "8d34cb98",
   "metadata": {},
   "outputs": [],
   "source": []
  },
  {
   "cell_type": "code",
   "execution_count": 28,
   "id": "8bb61f2c",
   "metadata": {},
   "outputs": [
    {
     "data": {
      "image/png": "[encoded data removed]",
      "text/plain": [
       "<Figure size 432x288 with 1 Axes>"
      ]
     },
     "metadata": {
      "needs_background": "light"
     },
     "output_type": "display_data"
    }
   ],
   "source": [
    "showimage(test_img_copy, 9999)"
   ]
  },
  {
   "cell_type": "code",
   "execution_count": 29,
   "id": "c5fe47e7",
   "metadata": {},
   "outputs": [
    {
     "data": {
      "text/plain": [
       "array(['0'], dtype=object)"
      ]
     },
     "execution_count": 29,
     "metadata": {},
     "output_type": "execute_result"
    }
   ],
   "source": [
    "logisticRegr.predict(test_img[9999].reshape(1,-1))"
   ]
  },
  {
   "cell_type": "code",
   "execution_count": null,
   "id": "9f61b68f",
   "metadata": {},
   "outputs": [],
   "source": []
  },
  {
   "cell_type": "code",
   "execution_count": null,
   "id": "98c902ea",
   "metadata": {},
   "outputs": [],
   "source": []
  },
  {
   "cell_type": "markdown",
   "id": "52f2339a",
   "metadata": {},
   "source": [
    "### Modelimizin doğruluk oranı (accuracy) ölçmek "
   ]
  },
  {
   "cell_type": "code",
   "execution_count": 30,
   "id": "12dda22a",
   "metadata": {},
   "outputs": [
    {
     "data": {
      "text/plain": [
       "0.9184"
      ]
     },
     "execution_count": 30,
     "metadata": {},
     "output_type": "execute_result"
    }
   ],
   "source": [
    "# Modelimizin doğruluk oranı (accuracy) ölçmek için score metodunu kullanacağız:\n",
    "\n",
    "logisticRegr.score(test_img, test_lbl)"
   ]
  },
  {
   "cell_type": "code",
   "execution_count": null,
   "id": "40fdd000",
   "metadata": {},
   "outputs": [],
   "source": []
  },
  {
   "cell_type": "markdown",
   "id": "ce8f1810",
   "metadata": {},
   "source": [
    "### Sonuç ve Değerlendirme"
   ]
  },
  {
   "cell_type": "markdown",
   "id": "0484e53d",
   "metadata": {},
   "source": [
    "Bu projede PCA kullanarak logistic regression tarafından yapay zekanın eğitilme süresini önemli ölçüde kısalttık. Ben %95 variance korumayı hedefledim. Siz % 95  variance'ı daha düşük seviyelere çekerek sürenin ne ölçüde kısaltıdığını kendiniz deneyerek bulabilirsiniz. 10 tane digit için yapay zekanın eğitim süresini çok büyük ölçüde kısaltan PCA algoritması yüzlerce hatta binlerce değişik nesne tipi için yapay zekanın eğitim süresini saatler mertebesinde kısaltacak ve bu da sizin programlarınızın çok daha hızlı çalışmasını sağlayacaktır.\n",
    "\n",
    "\n",
    "Bu proje ile birbirinden tamamen farklı 2 makine öğrenme modelini bir araya getirip günlük hayatta karşımıza çıkabilecek\n",
    "bir işi bilgisayarımıza yapay zeka programı yazarak gerçekleştirdik ! \n",
    "\n",
    "Gerçekten düşününce süper bir teknoloji, el yazısıyla yazılmış rakamları otomatik olarak tanıyıp bunu bilgisayarın anlayabileceği dijital bir sayı karakterine dönüştürebiliyoruz! Bira üzerinde düşünürseniz böyle bir teknolojiyi kullanarak çok çeşitli icatlar ve ürünler ortaya çıkarabilirsiniz. Mesela... bu projeyi biraz daha geliştirip (alfabedeki harfleri de ekleyip) otomatik olarak el yazısı ile yazılmış dilekçeleri okuyan ve dijital Microsoft Word dosyasına veya PDF dosyasına dönüştüren bir software oluşturabilirsiniz. İnsanlar fotoğrafını çekerek oluşturduğu bir dilekçeyi otomatik olarak sisteminize yükleyebilir ve siz de veritabanına metin olarak kaydedebilirsiniz. Aradaki bir çok manuel adımı yapay zeka sayesinde atlamış olursunuz!"
   ]
  },
  {
   "cell_type": "markdown",
   "id": "aee73c57",
   "metadata": {},
   "source": []
  },
  {
   "cell_type": "code",
   "execution_count": null,
   "id": "2bdce549",
   "metadata": {},
   "outputs": [],
   "source": []
  },
  {
   "cell_type": "code",
   "execution_count": null,
   "id": "5f7f0ff4",
   "metadata": {},
   "outputs": [],
   "source": []
  },
  {
   "cell_type": "code",
   "execution_count": null,
   "id": "a9eebf8c",
   "metadata": {},
   "outputs": [],
   "source": []
  },
  {
   "cell_type": "code",
   "execution_count": null,
   "id": "e8468bba",
   "metadata": {},
   "outputs": [],
   "source": []
  },
  {
   "cell_type": "code",
   "execution_count": null,
   "id": "2b915ad6",
   "metadata": {},
   "outputs": [],
   "source": []
  },
  {
   "cell_type": "code",
   "execution_count": null,
   "id": "da76048c",
   "metadata": {},
   "outputs": [],
   "source": []
  },
  {
   "cell_type": "code",
   "execution_count": null,
   "id": "8cee76e6",
   "metadata": {},
   "outputs": [],
   "source": []
  },
  {
   "cell_type": "code",
   "execution_count": null,
   "id": "143b3af0",
   "metadata": {},
   "outputs": [],
   "source": []
  },
  {
   "cell_type": "code",
   "execution_count": null,
   "id": "e89866c9",
   "metadata": {},
   "outputs": [],
   "source": []
  },
  {
   "cell_type": "code",
   "execution_count": null,
   "id": "eee9de32",
   "metadata": {},
   "outputs": [],
   "source": []
  },
  {
   "cell_type": "code",
   "execution_count": null,
   "id": "89578549",
   "metadata": {},
   "outputs": [],
   "source": []
  },
  {
   "cell_type": "code",
   "execution_count": null,
   "id": "de0edd52",
   "metadata": {},
   "outputs": [],
   "source": []
  },
  {
   "cell_type": "code",
   "execution_count": null,
   "id": "051a8eba",
   "metadata": {},
   "outputs": [],
   "source": []
  },
  {
   "cell_type": "code",
   "execution_count": null,
   "id": "b6f0065a",
   "metadata": {},
   "outputs": [],
   "source": []
  },
  {
   "cell_type": "code",
   "execution_count": null,
   "id": "9399f35f",
   "metadata": {},
   "outputs": [],
   "source": []
  },
  {
   "cell_type": "code",
   "execution_count": null,
   "id": "b4f6bb6c",
   "metadata": {},
   "outputs": [],
   "source": []
  },
  {
   "cell_type": "code",
   "execution_count": null,
   "id": "1da4df6a",
   "metadata": {},
   "outputs": [],
   "source": []
  },
  {
   "cell_type": "code",
   "execution_count": null,
   "id": "088b8637",
   "metadata": {},
   "outputs": [],
   "source": []
  },
  {
   "cell_type": "code",
   "execution_count": null,
   "id": "f67b3ed5",
   "metadata": {},
   "outputs": [],
   "source": []
  },
  {
   "cell_type": "code",
   "execution_count": null,
   "id": "06ec7966",
   "metadata": {},
   "outputs": [],
   "source": []
  },
  {
   "cell_type": "code",
   "execution_count": null,
   "id": "4109cfb9",
   "metadata": {},
   "outputs": [],
   "source": []
  },
  {
   "cell_type": "code",
   "execution_count": null,
   "id": "c400e6b6",
   "metadata": {},
   "outputs": [],
   "source": []
  },
  {
   "cell_type": "code",
   "execution_count": null,
   "id": "6574ac1c",
   "metadata": {},
   "outputs": [],
   "source": []
  }
 ],
 "metadata": {
  "kernelspec": {
   "display_name": "Python 3",
   "language": "python",
   "name": "python3"
  },
  "language_info": {
   "codemirror_mode": {
    "name": "ipython",
    "version": 3
   },
   "file_extension": ".py",
   "mimetype": "text/x-python",
   "name": "python",
   "nbconvert_exporter": "python",
   "pygments_lexer": "ipython3",
   "version": "3.8.8"
  }
 },
 "nbformat": 4,
 "nbformat_minor": 5
}
