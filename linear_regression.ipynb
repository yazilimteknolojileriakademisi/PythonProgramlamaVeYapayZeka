{
 "cells": [
  {
   "cell_type": "markdown",
   "id": "8a4079f8",
   "metadata": {},
   "source": [
    "# LINEAR REGRESSION\n",
    "\n",
    "Bir makine öğrenmesi metodu tahminde bulunmak için bir çıktı üretir.\n",
    "- Bu çıktı kategorik ise sınıflandırma (classification) \n",
    "- Eğer çıktı nümerik ise regresyon (regression) denir.\n",
    "- Açıklayıcı bir modelleme olan kümeleme (Clustering) ise benzer gözlemleri aynı kümelere atama işlemidir. \n",
    "\n",
    "#### Bu dersimizde ilk Makine Öğrenim Modelimiz olan Linear Regression ile en temel yapay zeka modelimizi oluşturacak ve makine öğreniminin linear regression modeli ile ilk tahminimizi (prediction) yapacağız arkadaşlar.\n",
    "\n",
    "Kabaca Linear Regression veriler arasında var olan korelasyonu(ilişkiyi) kullanarak yeni gelecek verileri tahmin etme modelidir. Burada makine öğrenimi bize veriler arasındaki bu ilişkiyi belirlememize yardımcı olur ve bu sayede yeni verileri tahmin edebiliriz."
   ]
  },
  {
   "cell_type": "code",
   "execution_count": 1,
   "id": "c1416c59",
   "metadata": {},
   "outputs": [
    {
     "data": {
      "text/plain": [
       "<matplotlib.collections.PathCollection at 0x209cb04c070>"
      ]
     },
     "execution_count": 1,
     "metadata": {},
     "output_type": "execute_result"
    },
    {
     "data": {
      "image/png": "[encoded data removed]",
      "text/plain": [
       "<Figure size 432x288 with 1 Axes>"
      ]
     },
     "metadata": {
      "needs_background": "light"
     },
     "output_type": "display_data"
    }
   ],
   "source": [
    "import pandas as pd\n",
    "import matplotlib.pyplot as plt\n",
    "# sklearn library\n",
    "from sklearn import linear_model\n",
    "\n",
    "# veri setimizi import ediyoruz:\n",
    "df = pd.read_csv(\"linearregression.csv\",sep = \";\")\n",
    "\n",
    "plt.xlabel('Alan')\n",
    "plt.ylabel('Fiyat')\n",
    "plt.scatter(df.alan, df.fiyat, color='red', marker='+')"
   ]
  },
  {
   "cell_type": "code",
   "execution_count": 2,
   "id": "cfcaf07e",
   "metadata": {},
   "outputs": [
    {
     "data": {
      "text/html": [
       "<div>\n",
       "<style scoped>\n",
       "    .dataframe tbody tr th:only-of-type {\n",
       "        vertical-align: middle;\n",
       "    }\n",
       "\n",
       "    .dataframe tbody tr th {\n",
       "        vertical-align: top;\n",
       "    }\n",
       "\n",
       "    .dataframe thead th {\n",
       "        text-align: right;\n",
       "    }\n",
       "</style>\n",
       "<table border=\"1\" class=\"dataframe\">\n",
       "  <thead>\n",
       "    <tr style=\"text-align: right;\">\n",
       "      <th></th>\n",
       "      <th>alan</th>\n",
       "      <th>fiyat</th>\n",
       "    </tr>\n",
       "  </thead>\n",
       "  <tbody>\n",
       "    <tr>\n",
       "      <th>0</th>\n",
       "      <td>180</td>\n",
       "      <td>495000</td>\n",
       "    </tr>\n",
       "    <tr>\n",
       "      <th>1</th>\n",
       "      <td>225</td>\n",
       "      <td>525000</td>\n",
       "    </tr>\n",
       "    <tr>\n",
       "      <th>2</th>\n",
       "      <td>260</td>\n",
       "      <td>550000</td>\n",
       "    </tr>\n",
       "    <tr>\n",
       "      <th>3</th>\n",
       "      <td>320</td>\n",
       "      <td>610000</td>\n",
       "    </tr>\n",
       "    <tr>\n",
       "      <th>4</th>\n",
       "      <td>335</td>\n",
       "      <td>625000</td>\n",
       "    </tr>\n",
       "    <tr>\n",
       "      <th>5</th>\n",
       "      <td>345</td>\n",
       "      <td>632000</td>\n",
       "    </tr>\n",
       "    <tr>\n",
       "      <th>6</th>\n",
       "      <td>355</td>\n",
       "      <td>680000</td>\n",
       "    </tr>\n",
       "    <tr>\n",
       "      <th>7</th>\n",
       "      <td>400</td>\n",
       "      <td>725000</td>\n",
       "    </tr>\n",
       "  </tbody>\n",
       "</table>\n",
       "</div>"
      ],
      "text/plain": [
       "   alan   fiyat\n",
       "0   180  495000\n",
       "1   225  525000\n",
       "2   260  550000\n",
       "3   320  610000\n",
       "4   335  625000\n",
       "5   345  632000\n",
       "6   355  680000\n",
       "7   400  725000"
      ]
     },
     "execution_count": 2,
     "metadata": {},
     "output_type": "execute_result"
    }
   ],
   "source": [
    "df"
   ]
  },
  {
   "cell_type": "code",
   "execution_count": 18,
   "id": "38e4153f",
   "metadata": {},
   "outputs": [
    {
     "data": {
      "text/plain": [
       "array([576826.14379085])"
      ]
     },
     "execution_count": 18,
     "metadata": {},
     "output_type": "execute_result"
    }
   ],
   "source": [
    "# linear regression model\n",
    "reg = linear_model.LinearRegression()\n",
    "reg.fit(df[['alan']], df['fiyat'])\n",
    "reg.predict([[275]])\n"
   ]
  },
  {
   "cell_type": "code",
   "execution_count": 7,
   "id": "681bc7ed",
   "metadata": {},
   "outputs": [
    {
     "data": {
      "text/plain": [
       "pandas.core.frame.DataFrame"
      ]
     },
     "execution_count": 7,
     "metadata": {},
     "output_type": "execute_result"
    }
   ],
   "source": [
    "# Burda lütfen dikkat edelim fit fonksiyonunun ilk paramteresi 2 boyutlu bir array veya dataframe tipinde bir parametre istiyor\n",
    "type(df[['alan']])"
   ]
  },
  {
   "cell_type": "code",
   "execution_count": 8,
   "id": "1ae9c5dd",
   "metadata": {},
   "outputs": [
    {
     "data": {
      "text/plain": [
       "array([1033.59477124])"
      ]
     },
     "execution_count": 8,
     "metadata": {},
     "output_type": "execute_result"
    }
   ],
   "source": [
    "reg.coef_"
   ]
  },
  {
   "cell_type": "code",
   "execution_count": 9,
   "id": "081f56e1",
   "metadata": {},
   "outputs": [
    {
     "data": {
      "text/plain": [
       "292587.5816993463"
      ]
     },
     "execution_count": 9,
     "metadata": {},
     "output_type": "execute_result"
    }
   ],
   "source": [
    "reg.intercept_"
   ]
  },
  {
   "cell_type": "code",
   "execution_count": 10,
   "id": "d0759595",
   "metadata": {},
   "outputs": [
    {
     "data": {
      "text/plain": [
       "array([576826.14379085])"
      ]
     },
     "execution_count": 10,
     "metadata": {},
     "output_type": "execute_result"
    }
   ],
   "source": [
    "# Linear regression formülümüze dönersek hatırlayalım:\n",
    "# y = a + bX formülümüzdü\n",
    "\n",
    "a = reg.intercept_\n",
    "b = reg.coef_\n",
    "x = 275\n",
    "y = a + b * x\n",
    "y"
   ]
  },
  {
   "cell_type": "code",
   "execution_count": 11,
   "id": "44cfd160",
   "metadata": {},
   "outputs": [
    {
     "data": {
      "text/plain": [
       "[<matplotlib.lines.Line2D at 0x209cb7f9ca0>]"
      ]
     },
     "execution_count": 11,
     "metadata": {},
     "output_type": "execute_result"
    },
    {
     "data": {
      "image/png": "[encoded data removed]",
      "text/plain": [
       "<Figure size 432x288 with 1 Axes>"
      ]
     },
     "metadata": {
      "needs_background": "light"
     },
     "output_type": "display_data"
    }
   ],
   "source": [
    "plt.xlabel('Alan', color='red')\n",
    "plt.ylabel('Fiyat', color='red')\n",
    "plt.title(\"Linear Regression\", color='red')\n",
    "plt.scatter(df.alan, df.fiyat, color='red', marker='+')\n",
    "plt.plot(df.alan ,reg.predict(df[['alan']]), color = 'blue')"
   ]
  },
  {
   "cell_type": "code",
   "execution_count": null,
   "id": "2baef1c4",
   "metadata": {},
   "outputs": [],
   "source": []
  },
  {
   "cell_type": "code",
   "execution_count": null,
   "id": "c9f7c16a",
   "metadata": {},
   "outputs": [],
   "source": []
  },
  {
   "cell_type": "code",
   "execution_count": null,
   "id": "fc1faff9",
   "metadata": {},
   "outputs": [],
   "source": []
  },
  {
   "cell_type": "code",
   "execution_count": null,
   "id": "b911bc9f",
   "metadata": {},
   "outputs": [],
   "source": []
  },
  {
   "cell_type": "code",
   "execution_count": null,
   "id": "6aecd53b",
   "metadata": {},
   "outputs": [],
   "source": []
  }
 ],
 "metadata": {
  "kernelspec": {
   "display_name": "Python 3",
   "language": "python",
   "name": "python3"
  },
  "language_info": {
   "codemirror_mode": {
    "name": "ipython",
    "version": 3
   },
   "file_extension": ".py",
   "mimetype": "text/x-python",
   "name": "python",
   "nbconvert_exporter": "python",
   "pygments_lexer": "ipython3",
   "version": "3.8.8"
  }
 },
 "nbformat": 4,
 "nbformat_minor": 5
}
