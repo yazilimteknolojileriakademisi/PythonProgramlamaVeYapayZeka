{
 "cells": [
  {
   "cell_type": "markdown",
   "id": "eeac9332",
   "metadata": {},
   "source": [
    "<img src=\"https://miro.medium.com/max/1400/1*qePzd2m_uIPvsozXYh89CQ.png\">\n",
    "\n",
    "    \n",
    "NumPy, Python programlama diline ait çok boyutlu dizilerle ve matrislerle çalışmamıza yardım eden ileri düzey matematiksel işlemler yapabileceğimiz bir kütüphanedir. Günümüzde özellikle veri bilimi üzerine çalışanlar başta olmak üzere Numpy, Python programlayanlar tarafından çok sık kullanılan bir kütüphanedir.\n",
    "    \n",
    "Dizinler üzerinde matematiksel, cebirsel ve istatistiksel operasyonlar uygulamak için kullanılır.\n",
    "\n",
    "Numpy'in diğer kütüphanelere göre üstünlüklerinden birisi de çok boyutlu dizilerle işlem yapabilmemizi sağlayan fonksiyonlara sahip olmasıdır. \n",
    "\n",
    "Çok boyutlu dizileri hatırlayalım:\n",
    "<img src=\"https://i.stack.imgur.com/NWTQH.png\">\n",
    "\n",
    "    \n",
    "<p>\n",
    "    \n",
    "\n",
    "    \n"
   ]
  },
  {
   "cell_type": "markdown",
   "id": "d995ce7d",
   "metadata": {},
   "source": [
    "<H2></H2>\n",
    "<H2>Numpy ve Listelerin Farkları</H2>\n",
    "\n",
    "<H3>List kullanımı:  </H3>\n",
    "\n",
    "a = [1,5,10]   \n",
    "b = [1,2,3]\n",
    "\n",
    "a * b => HATA !\n",
    "                       \n",
    "<p><p><p><p>\n",
    "    \n",
    "    \n",
    "<H3>NumPy kullanımı:    </H3>\n",
    "\n",
    "a = numpy.array([1,5,10]) \n",
    "    \n",
    "b = numpy.array([1,2,3])\n",
    "\n",
    "a * b = numpy.array([1,10,30])"
   ]
  },
  {
   "cell_type": "code",
   "execution_count": 1,
   "id": "d251c0e3",
   "metadata": {},
   "outputs": [],
   "source": [
    "import numpy as np"
   ]
  },
  {
   "cell_type": "code",
   "execution_count": 2,
   "id": "36da9053",
   "metadata": {},
   "outputs": [
    {
     "name": "stdout",
     "output_type": "stream",
     "text": [
      "[ 1  5 10]\n"
     ]
    }
   ],
   "source": [
    "a = np.array([1,5,10])\n",
    "print(a)"
   ]
  },
  {
   "cell_type": "code",
   "execution_count": 3,
   "id": "11873512",
   "metadata": {},
   "outputs": [
    {
     "name": "stdout",
     "output_type": "stream",
     "text": [
      "[[ 1  7 20]\n",
      " [ 5  8  9]]\n"
     ]
    }
   ],
   "source": [
    "b = np.array([[1,7,20], [5, 8, 9]])\n",
    "print(b)"
   ]
  },
  {
   "cell_type": "markdown",
   "id": "df636fbc",
   "metadata": {},
   "source": [
    "\n",
    "Dizinin boyutunu öğrenmek için ndim kullanırız:"
   ]
  },
  {
   "cell_type": "code",
   "execution_count": 4,
   "id": "3afa0afa",
   "metadata": {},
   "outputs": [
    {
     "data": {
      "text/plain": [
       "2"
      ]
     },
     "execution_count": 4,
     "metadata": {},
     "output_type": "execute_result"
    }
   ],
   "source": [
    "b.ndim"
   ]
  },
  {
   "cell_type": "code",
   "execution_count": 5,
   "id": "1d7d63fc",
   "metadata": {},
   "outputs": [
    {
     "data": {
      "text/plain": [
       "1"
      ]
     },
     "execution_count": 5,
     "metadata": {},
     "output_type": "execute_result"
    }
   ],
   "source": [
    "a.ndim"
   ]
  },
  {
   "cell_type": "code",
   "execution_count": 10,
   "id": "d21f9b22",
   "metadata": {},
   "outputs": [
    {
     "data": {
      "text/plain": [
       "(2, 3)"
      ]
     },
     "execution_count": 10,
     "metadata": {},
     "output_type": "execute_result"
    }
   ],
   "source": [
    "# 2 satır 3 sütunlu dizimizin boyunu öğrenmek için shape kullanılır:\n",
    "\n",
    "b.shape\n"
   ]
  },
  {
   "cell_type": "code",
   "execution_count": 11,
   "id": "26817607",
   "metadata": {},
   "outputs": [
    {
     "data": {
      "text/plain": [
       "dtype('int32')"
      ]
     },
     "execution_count": 11,
     "metadata": {},
     "output_type": "execute_result"
    }
   ],
   "source": [
    "a.dtype"
   ]
  },
  {
   "cell_type": "code",
   "execution_count": 12,
   "id": "65e7aee7",
   "metadata": {},
   "outputs": [
    {
     "data": {
      "text/plain": [
       "dtype('float64')"
      ]
     },
     "execution_count": 12,
     "metadata": {},
     "output_type": "execute_result"
    }
   ],
   "source": [
    "x = np.array([1.0,5.4,10.42])\n",
    "x.dtype"
   ]
  },
  {
   "cell_type": "markdown",
   "id": "dc57e2a8",
   "metadata": {},
   "source": [
    "Dizinin belirli bir hücresine erişmek için satır ve sütun numaralarını kullanırız:"
   ]
  },
  {
   "cell_type": "code",
   "execution_count": 13,
   "id": "d5901aca",
   "metadata": {},
   "outputs": [
    {
     "name": "stdout",
     "output_type": "stream",
     "text": [
      "[[ 1  7 20]\n",
      " [ 5  8  9]]\n"
     ]
    }
   ],
   "source": [
    "print(b)"
   ]
  },
  {
   "cell_type": "code",
   "execution_count": 14,
   "id": "e474cc7c",
   "metadata": {},
   "outputs": [
    {
     "data": {
      "text/plain": [
       "20"
      ]
     },
     "execution_count": 14,
     "metadata": {},
     "output_type": "execute_result"
    }
   ],
   "source": [
    "b[0,2]"
   ]
  },
  {
   "cell_type": "code",
   "execution_count": 15,
   "id": "c6fa7bfa",
   "metadata": {},
   "outputs": [
    {
     "data": {
      "text/plain": [
       "8"
      ]
     },
     "execution_count": 15,
     "metadata": {},
     "output_type": "execute_result"
    }
   ],
   "source": [
    "b[1,1]"
   ]
  },
  {
   "cell_type": "code",
   "execution_count": 16,
   "id": "3e46d028",
   "metadata": {},
   "outputs": [
    {
     "data": {
      "text/plain": [
       "array([ 1,  7, 20])"
      ]
     },
     "execution_count": 16,
     "metadata": {},
     "output_type": "execute_result"
    }
   ],
   "source": [
    "b[0]"
   ]
  },
  {
   "cell_type": "code",
   "execution_count": null,
   "id": "251b77bf",
   "metadata": {},
   "outputs": [],
   "source": [
    "ilk satırdaki ikinci ve ücüncü elemanlara - yani 7 ve 20'ye erişmek için : kullanırız:"
   ]
  },
  {
   "cell_type": "code",
   "execution_count": 17,
   "id": "3c658dc2",
   "metadata": {},
   "outputs": [
    {
     "data": {
      "text/plain": [
       "array([ 7, 20])"
      ]
     },
     "execution_count": 17,
     "metadata": {},
     "output_type": "execute_result"
    }
   ],
   "source": [
    "b[0, 1:]"
   ]
  },
  {
   "cell_type": "code",
   "execution_count": 18,
   "id": "1f063b2e",
   "metadata": {},
   "outputs": [
    {
     "data": {
      "text/plain": [
       "18"
      ]
     },
     "execution_count": 18,
     "metadata": {},
     "output_type": "execute_result"
    }
   ],
   "source": [
    "b[1, 1] = 18\n",
    "b[1, 1]"
   ]
  },
  {
   "cell_type": "code",
   "execution_count": 19,
   "id": "2bdfe5ae",
   "metadata": {},
   "outputs": [
    {
     "data": {
      "text/plain": [
       "array([[ 1,  7, 20],\n",
       "       [ 5, 18,  9]])"
      ]
     },
     "execution_count": 19,
     "metadata": {},
     "output_type": "execute_result"
    }
   ],
   "source": [
    "b"
   ]
  },
  {
   "cell_type": "markdown",
   "id": "f1a40bd3",
   "metadata": {},
   "source": [
    "<H3> Otomatik dizi oluşturma </H3>"
   ]
  },
  {
   "cell_type": "code",
   "execution_count": 20,
   "id": "c071bedd",
   "metadata": {},
   "outputs": [
    {
     "data": {
      "text/plain": [
       "array([[0., 0., 0.],\n",
       "       [0., 0., 0.]])"
      ]
     },
     "execution_count": 20,
     "metadata": {},
     "output_type": "execute_result"
    }
   ],
   "source": [
    "# Tümü sıfır matris/dizi\n",
    "dizi_s = np.zeros((2,3))\n",
    "dizi_s"
   ]
  },
  {
   "cell_type": "code",
   "execution_count": 21,
   "id": "d0c012e0",
   "metadata": {},
   "outputs": [
    {
     "data": {
      "text/plain": [
       "array([[50, 50, 50, 50],\n",
       "       [50, 50, 50, 50],\n",
       "       [50, 50, 50, 50],\n",
       "       [50, 50, 50, 50]])"
      ]
     },
     "execution_count": 21,
     "metadata": {},
     "output_type": "execute_result"
    }
   ],
   "source": [
    "# Tümü aynı değer olan dizi\n",
    "dizi1= np.full((4,4), 50)\n",
    "dizi1"
   ]
  },
  {
   "cell_type": "code",
   "execution_count": 22,
   "id": "3456856a",
   "metadata": {},
   "outputs": [
    {
     "data": {
      "text/plain": [
       "array([[0.14925805, 0.47734539, 0.23758445],\n",
       "       [0.18349251, 0.35557823, 0.01181234],\n",
       "       [0.44316011, 0.06947011, 0.46490424],\n",
       "       [0.24576153, 0.118214  , 0.9016374 ]])"
      ]
     },
     "execution_count": 22,
     "metadata": {},
     "output_type": "execute_result"
    }
   ],
   "source": [
    "# Random dizi oluşturma\n",
    "dizi2 = np.random.rand(4,3)\n",
    "dizi2"
   ]
  },
  {
   "cell_type": "code",
   "execution_count": 24,
   "id": "0a6ddafb",
   "metadata": {},
   "outputs": [
    {
     "data": {
      "text/plain": [
       "array([[52, 40, 93, 92, 15],\n",
       "       [51, 33, 73,  0, 62],\n",
       "       [30,  4, 16, 42, 39],\n",
       "       [37,  2, 44,  6, 21],\n",
       "       [94, 76, 40, 93, 42]])"
      ]
     },
     "execution_count": 24,
     "metadata": {},
     "output_type": "execute_result"
    }
   ],
   "source": [
    "# otomatik random int dizi oluşturma\n",
    "dizi3 = np.random.randint(0,100,size=(5,5))\n",
    "dizi3"
   ]
  },
  {
   "cell_type": "markdown",
   "id": "e87282c1",
   "metadata": {},
   "source": [
    "<H3> Dizi kopyalarken dikkat !!! </H3>"
   ]
  },
  {
   "cell_type": "code",
   "execution_count": 25,
   "id": "35f2541c",
   "metadata": {},
   "outputs": [
    {
     "name": "stdout",
     "output_type": "stream",
     "text": [
      "[90  2  3]\n"
     ]
    }
   ],
   "source": [
    "\n",
    "a = np.array([1,2,3])\n",
    "b = a\n",
    "b[0] = 90\n",
    "\n",
    "print(a)"
   ]
  },
  {
   "cell_type": "code",
   "execution_count": 26,
   "id": "916d654f",
   "metadata": {},
   "outputs": [
    {
     "name": "stdout",
     "output_type": "stream",
     "text": [
      "[1 2 3]\n"
     ]
    }
   ],
   "source": [
    "# b bir pointer gibi a'nın gösterdiği aynı memory lokoasyonunu gösteriyor o nedenle b!deki değişiklik a da da oluyor.\n",
    "# bu tarz durumlarla karşılaşmamak için copy() fonksyionunu kullanın:\n",
    "a = np.array([1,2,3])\n",
    "b = a.copy()\n",
    "b[0] = 90\n",
    "\n",
    "print(a)"
   ]
  },
  {
   "cell_type": "code",
   "execution_count": 27,
   "id": "98dd2291",
   "metadata": {},
   "outputs": [
    {
     "name": "stdout",
     "output_type": "stream",
     "text": [
      "[90  2  3]\n"
     ]
    }
   ],
   "source": [
    "print(b)"
   ]
  },
  {
   "cell_type": "markdown",
   "id": "230404d0",
   "metadata": {},
   "source": [
    "<H3> Dizilerde Matematiksel İşlemler </H3>"
   ]
  },
  {
   "cell_type": "code",
   "execution_count": 28,
   "id": "ea8e1847",
   "metadata": {},
   "outputs": [
    {
     "name": "stdout",
     "output_type": "stream",
     "text": [
      "[1 2 3 4]\n"
     ]
    }
   ],
   "source": [
    "\n",
    "a = np.array([1,2,3,4])\n",
    "print(a)"
   ]
  },
  {
   "cell_type": "code",
   "execution_count": 29,
   "id": "731ac0ce",
   "metadata": {},
   "outputs": [
    {
     "data": {
      "text/plain": [
       "array([5, 6, 7, 8])"
      ]
     },
     "execution_count": 29,
     "metadata": {},
     "output_type": "execute_result"
    }
   ],
   "source": [
    "\n",
    "a + 4"
   ]
  },
  {
   "cell_type": "code",
   "execution_count": 30,
   "id": "be84bead",
   "metadata": {},
   "outputs": [
    {
     "data": {
      "text/plain": [
       "array([2, 4, 6, 8])"
      ]
     },
     "execution_count": 30,
     "metadata": {},
     "output_type": "execute_result"
    }
   ],
   "source": [
    "a * 2"
   ]
  },
  {
   "cell_type": "code",
   "execution_count": null,
   "id": "cf65edad",
   "metadata": {},
   "outputs": [],
   "source": [
    "a / 2"
   ]
  },
  {
   "cell_type": "code",
   "execution_count": 31,
   "id": "e026b6bf",
   "metadata": {},
   "outputs": [
    {
     "data": {
      "text/plain": [
       "array([2, 2, 4, 4])"
      ]
     },
     "execution_count": 31,
     "metadata": {},
     "output_type": "execute_result"
    }
   ],
   "source": [
    "\n",
    "b = np.array([1,0,1,0])\n",
    "a + b"
   ]
  },
  {
   "cell_type": "code",
   "execution_count": 32,
   "id": "8ef1dfc5",
   "metadata": {},
   "outputs": [
    {
     "data": {
      "text/plain": [
       "array([ 1,  4,  9, 16], dtype=int32)"
      ]
     },
     "execution_count": 32,
     "metadata": {},
     "output_type": "execute_result"
    }
   ],
   "source": [
    "a ** 2"
   ]
  },
  {
   "cell_type": "markdown",
   "id": "8786d0b9",
   "metadata": {},
   "source": [
    "\n",
    "<H3> İstatistik </H3>"
   ]
  },
  {
   "cell_type": "code",
   "execution_count": 33,
   "id": "7cc08a42",
   "metadata": {},
   "outputs": [
    {
     "data": {
      "text/plain": [
       "array([[1, 2, 3],\n",
       "       [4, 5, 6]])"
      ]
     },
     "execution_count": 33,
     "metadata": {},
     "output_type": "execute_result"
    }
   ],
   "source": [
    "dizi4 = np.array([[1,2,3],[4,5,6]])\n",
    "dizi4"
   ]
  },
  {
   "cell_type": "code",
   "execution_count": 34,
   "id": "30ec3e6e",
   "metadata": {},
   "outputs": [
    {
     "data": {
      "text/plain": [
       "1"
      ]
     },
     "execution_count": 34,
     "metadata": {},
     "output_type": "execute_result"
    }
   ],
   "source": [
    "np.min(dizi4)"
   ]
  },
  {
   "cell_type": "code",
   "execution_count": 36,
   "id": "f1e08b03",
   "metadata": {},
   "outputs": [
    {
     "data": {
      "text/plain": [
       "6"
      ]
     },
     "execution_count": 36,
     "metadata": {},
     "output_type": "execute_result"
    }
   ],
   "source": [
    "np.max(dizi4)"
   ]
  },
  {
   "cell_type": "code",
   "execution_count": 37,
   "id": "6d64fada",
   "metadata": {},
   "outputs": [
    {
     "data": {
      "text/plain": [
       "21"
      ]
     },
     "execution_count": 37,
     "metadata": {},
     "output_type": "execute_result"
    }
   ],
   "source": [
    "\n",
    "np.sum(dizi4)"
   ]
  },
  {
   "cell_type": "markdown",
   "id": "ab56c985",
   "metadata": {},
   "source": [
    "<H3> Dosyadan dizi yükleme </H3>"
   ]
  },
  {
   "cell_type": "code",
   "execution_count": 38,
   "id": "e6f56246",
   "metadata": {},
   "outputs": [
    {
     "name": "stdout",
     "output_type": "stream",
     "text": [
      "[[1 2 3 4 5 6 7]\n",
      " [8 9 7 8 9 9 8]\n",
      " [3 3 3 5 7 9 0]]\n"
     ]
    }
   ],
   "source": [
    "filedata = np.genfromtxt('ornek.txt', delimiter=',')\n",
    "filedata = filedata.astype('int32')\n",
    "print(filedata)"
   ]
  },
  {
   "cell_type": "code",
   "execution_count": 39,
   "id": "262cd74d",
   "metadata": {},
   "outputs": [
    {
     "data": {
      "text/plain": [
       "8"
      ]
     },
     "execution_count": 39,
     "metadata": {},
     "output_type": "execute_result"
    }
   ],
   "source": [
    "filedata[1,0]"
   ]
  },
  {
   "cell_type": "code",
   "execution_count": null,
   "id": "90b106c5",
   "metadata": {},
   "outputs": [],
   "source": []
  },
  {
   "cell_type": "code",
   "execution_count": null,
   "id": "fc2839e2",
   "metadata": {},
   "outputs": [],
   "source": []
  },
  {
   "cell_type": "code",
   "execution_count": null,
   "id": "dc152a5c",
   "metadata": {},
   "outputs": [],
   "source": []
  },
  {
   "cell_type": "code",
   "execution_count": null,
   "id": "e15183ad",
   "metadata": {},
   "outputs": [],
   "source": []
  }
 ],
 "metadata": {
  "kernelspec": {
   "display_name": "Python 3",
   "language": "python",
   "name": "python3"
  },
  "language_info": {
   "codemirror_mode": {
    "name": "ipython",
    "version": 3
   },
   "file_extension": ".py",
   "mimetype": "text/x-python",
   "name": "python",
   "nbconvert_exporter": "python",
   "pygments_lexer": "ipython3",
   "version": "3.8.8"
  }
 },
 "nbformat": 4,
 "nbformat_minor": 5
}
