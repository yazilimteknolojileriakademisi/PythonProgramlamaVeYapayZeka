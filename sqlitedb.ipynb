{
 "cells": [
  {
   "cell_type": "markdown",
   "id": "4dd03bbc",
   "metadata": {},
   "source": [
    "# &nbsp;&nbsp;&nbsp;&nbsp;&nbsp;&nbsp;&nbsp;&nbsp;&nbsp;&nbsp;&nbsp;&nbsp;&nbsp;&nbsp;&nbsp;&nbsp;&nbsp;&nbsp;&nbsp;&nbsp;&nbsp;&nbsp;&nbsp;&nbsp;&nbsp;&nbsp;&nbsp;&nbsp;&nbsp;&nbsp;&nbsp;&nbsp;  Python ile SQLite Veritabanı İşlemleri\n",
    "\n"
   ]
  },
  {
   "cell_type": "code",
   "execution_count": null,
   "id": "f8ad66aa",
   "metadata": {},
   "outputs": [],
   "source": [
    "# SQLite kullanabilmek için ilk olarak Python sqlite3 modülünü import etmemiz gerkeiyor..\n",
    "import sqlite3\n",
    "from sqlite3 import Error\n"
   ]
  },
  {
   "cell_type": "code",
   "execution_count": null,
   "id": "45c12b07",
   "metadata": {},
   "outputs": [],
   "source": [
    "# Daha sonra oluşturacağımız(veya daha önce zaten oluşturmuşsak bağlanacağımız) veritabanı için \n",
    "# bir connection nesnesi oluşturuan bir metod tanımlıyoruz..\n",
    "\n",
    "def connection_olustur(db_file):    \n",
    "    con = None\n",
    "    try:\n",
    "        con = sqlite3.connect(db_file)\n",
    "        print(\"Connection oluşturuldu...\")\n",
    "    except Error as e:\n",
    "        print(\"Hata oluştu : \", e)    \n",
    "    return con         \n"
   ]
  },
  {
   "cell_type": "code",
   "execution_count": null,
   "id": "3d945c33",
   "metadata": {},
   "outputs": [],
   "source": [
    "# Yukarda tanımladığımız metodu kullanarak sqlite bağlantı nesnemizi oluşturuyoruz..\n",
    "sqlite_connection = connection_olustur(\"kutuphane.db\")"
   ]
  },
  {
   "cell_type": "code",
   "execution_count": null,
   "id": "447c0e97",
   "metadata": {},
   "outputs": [],
   "source": [
    "# Eğer herhangi bir hata nedeniyle veritabanı oluşturulamadıysa veya zaten varolan veritabanına\n",
    "# bağlantı nesnesi oluşturulamadıysa bu durumda kullanıcıya bir hata mesajı verip \n",
    "# programdan çıkış yapmamız gerekir...\n",
    "if (sqlite_connection == None):\n",
    "    print(\"Veritabanına bağlantı sağlanılamadı, program kapanıyor..\")\n",
    "    exit()"
   ]
  },
  {
   "cell_type": "markdown",
   "id": "73b2830c",
   "metadata": {},
   "source": [
    "### Veritabanında Tablo Oluşturma"
   ]
  },
  {
   "cell_type": "code",
   "execution_count": null,
   "id": "e0844f67",
   "metadata": {},
   "outputs": [],
   "source": [
    "# Tablo oluşturmak için önce bir cursor nesnesi oluşturmamız gerekiyor..\n",
    "cursor = sqlite_connection.cursor()\n"
   ]
  },
  {
   "cell_type": "code",
   "execution_count": null,
   "id": "9db32b05",
   "metadata": {},
   "outputs": [],
   "source": [
    "# Tabloyu oluşturmak için (Tablo oluşturma sırasındaki hataları görüntüleyeceğimiz) bir\n",
    "# fonksiyon yazalım..\n",
    "def tablo_olustur(curs):        \n",
    "    try:\n",
    "        curs.execute(\"CREATE TABLE IF NOT EXISTS kitaplar (kitapadi TEXT, yazar TEXT, kitapno INT, sayfasayisi INT)\")\n",
    "    except Error as e:\n",
    "        print(\"Hata oluştu : \", e)    "
   ]
  },
  {
   "cell_type": "code",
   "execution_count": null,
   "id": "45df2de1",
   "metadata": {},
   "outputs": [],
   "source": [
    "# kitaplar isimi tablomuzu kutuphane veritabanımız içinde oluşturalım..\n",
    "tablo_olustur(cursor)\n",
    "sqlite_connection.commit()"
   ]
  },
  {
   "cell_type": "markdown",
   "id": "d68c60fb",
   "metadata": {},
   "source": [
    "### Tabloya Kayıt Atma İşlemi"
   ]
  },
  {
   "cell_type": "code",
   "execution_count": null,
   "id": "ee1b4549",
   "metadata": {},
   "outputs": [],
   "source": [
    "cursor.execute(\"INSERT INTO kitaplar VALUES ('Da Vinci Şifresi', 'Dan Brown', 1000, 495)\")"
   ]
  },
  {
   "cell_type": "code",
   "execution_count": null,
   "id": "a4ce0fba",
   "metadata": {},
   "outputs": [],
   "source": [
    "sqlite_connection.commit()"
   ]
  },
  {
   "cell_type": "code",
   "execution_count": null,
   "id": "cae5959c",
   "metadata": {},
   "outputs": [],
   "source": [
    "cursor.execute(\"INSERT INTO kitaplar VALUES ('Dune', 'Frank Herbert', 1001, 296)\")"
   ]
  },
  {
   "cell_type": "code",
   "execution_count": null,
   "id": "a765cab0",
   "metadata": {},
   "outputs": [],
   "source": [
    "sqlite_connection.commit()"
   ]
  },
  {
   "cell_type": "code",
   "execution_count": null,
   "id": "f87d4b5b",
   "metadata": {},
   "outputs": [],
   "source": [
    "cursor.execute(\"INSERT INTO kitaplar VALUES ('Yüzüklerin Efendisi', 'J.R.R. Tolkien', 1003, 1026)\")"
   ]
  },
  {
   "cell_type": "code",
   "execution_count": null,
   "id": "9483a66d",
   "metadata": {},
   "outputs": [],
   "source": [
    "sqlite_connection.commit()"
   ]
  },
  {
   "cell_type": "markdown",
   "id": "a5ad633a",
   "metadata": {},
   "source": [
    "### Tablodan Veri Çekme"
   ]
  },
  {
   "cell_type": "code",
   "execution_count": null,
   "id": "758c432a",
   "metadata": {},
   "outputs": [],
   "source": [
    "cursor.execute(\"SELECT * FROM kitaplar\")"
   ]
  },
  {
   "cell_type": "code",
   "execution_count": null,
   "id": "52c938ff",
   "metadata": {},
   "outputs": [],
   "source": [
    "cekilen_veri = cursor.fetchall()"
   ]
  },
  {
   "cell_type": "code",
   "execution_count": null,
   "id": "651a0fe9",
   "metadata": {},
   "outputs": [],
   "source": [
    "for each in cekilen_veri:\n",
    "    print(each)"
   ]
  },
  {
   "cell_type": "code",
   "execution_count": null,
   "id": "423d15e5",
   "metadata": {},
   "outputs": [],
   "source": []
  },
  {
   "cell_type": "code",
   "execution_count": null,
   "id": "65999785",
   "metadata": {},
   "outputs": [],
   "source": [
    "cursor.execute(\"SELECT * FROM kitaplar WHERE sayfasayisi > 400\")"
   ]
  },
  {
   "cell_type": "code",
   "execution_count": null,
   "id": "6fde3fd7",
   "metadata": {},
   "outputs": [],
   "source": [
    "cekilen_veri = cursor.fetchall()"
   ]
  },
  {
   "cell_type": "code",
   "execution_count": null,
   "id": "db47b7cf",
   "metadata": {},
   "outputs": [],
   "source": [
    "for each in cekilen_veri:\n",
    "    print(each)"
   ]
  },
  {
   "cell_type": "code",
   "execution_count": null,
   "id": "ec69f261",
   "metadata": {},
   "outputs": [],
   "source": []
  },
  {
   "cell_type": "code",
   "execution_count": null,
   "id": "17a6116f",
   "metadata": {},
   "outputs": [],
   "source": [
    "cursor.execute(\"SELECT * FROM kitaplar WHERE yazar = 'Dan Brown'\")"
   ]
  },
  {
   "cell_type": "code",
   "execution_count": null,
   "id": "73c3e2c2",
   "metadata": {},
   "outputs": [],
   "source": [
    "cekilen_veri = cursor.fetchall()"
   ]
  },
  {
   "cell_type": "code",
   "execution_count": null,
   "id": "a01b200d",
   "metadata": {},
   "outputs": [],
   "source": [
    "for each in cekilen_veri:\n",
    "    print(each)"
   ]
  },
  {
   "cell_type": "markdown",
   "id": "55c0c7d3",
   "metadata": {},
   "source": [
    "### Tablodaki Verileri Güncelleme"
   ]
  },
  {
   "cell_type": "code",
   "execution_count": null,
   "id": "ec38590f",
   "metadata": {},
   "outputs": [],
   "source": [
    "cursor.execute(\"UPDATE kitaplar SET sayfasayisi = 999 WHERE sayfasayisi > 400\")"
   ]
  },
  {
   "cell_type": "code",
   "execution_count": null,
   "id": "72962240",
   "metadata": {},
   "outputs": [],
   "source": [
    "cursor.execute(\"SELECT * FROM kitaplar\")\n",
    "cekilen_veri = cursor.fetchall()\n",
    "for each in cekilen_veri:\n",
    "    print(each)"
   ]
  },
  {
   "cell_type": "code",
   "execution_count": null,
   "id": "b806a599",
   "metadata": {},
   "outputs": [],
   "source": [
    "sqlite_connection.commit()"
   ]
  },
  {
   "cell_type": "markdown",
   "id": "57d5678d",
   "metadata": {},
   "source": [
    "### Tablodaki Verileri Silme"
   ]
  },
  {
   "cell_type": "code",
   "execution_count": null,
   "id": "50f08c61",
   "metadata": {},
   "outputs": [],
   "source": [
    "cursor.execute(\"DELETE FROM kitaplar WHERE kitapno = 1001\")"
   ]
  },
  {
   "cell_type": "code",
   "execution_count": null,
   "id": "3c782280",
   "metadata": {},
   "outputs": [],
   "source": [
    "sqlite_connection.commit()"
   ]
  },
  {
   "cell_type": "code",
   "execution_count": null,
   "id": "7c78bf3d",
   "metadata": {},
   "outputs": [],
   "source": [
    "cursor.execute(\"SELECT * FROM kitaplar\")\n",
    "cekilen_veri = cursor.fetchall()\n",
    "for each in cekilen_veri:\n",
    "    print(each)"
   ]
  },
  {
   "cell_type": "code",
   "execution_count": null,
   "id": "a0783e1a",
   "metadata": {},
   "outputs": [],
   "source": [
    "# Son olarak da daha önce oluşturduğumuz veritabanı bağlantısını program bitişinde kapatıyoruz..\n",
    "if sqlite_connection:\n",
    "    sqlite_connection.close()"
   ]
  },
  {
   "cell_type": "code",
   "execution_count": null,
   "id": "471c5a2c",
   "metadata": {},
   "outputs": [],
   "source": []
  },
  {
   "cell_type": "code",
   "execution_count": null,
   "id": "9d81329d",
   "metadata": {},
   "outputs": [],
   "source": []
  },
  {
   "cell_type": "code",
   "execution_count": null,
   "id": "066e2aa3",
   "metadata": {},
   "outputs": [],
   "source": []
  }
 ],
 "metadata": {
  "kernelspec": {
   "display_name": "Python 3",
   "language": "python",
   "name": "python3"
  },
  "language_info": {
   "codemirror_mode": {
    "name": "ipython",
    "version": 3
   },
   "file_extension": ".py",
   "mimetype": "text/x-python",
   "name": "python",
   "nbconvert_exporter": "python",
   "pygments_lexer": "ipython3",
   "version": "3.8.8"
  }
 },
 "nbformat": 4,
 "nbformat_minor": 5
}
