{
 "cells": [
  {
   "cell_type": "markdown",
   "id": "7c634638",
   "metadata": {},
   "source": [
    "# K-MEANS CLUSTERING\n",
    "\n",
    "Bu dersimizde Kaggle'dan edindiğimiz bir dataset kullanarak K-Means Clustering uygulaması yapacağız."
   ]
  },
  {
   "cell_type": "code",
   "execution_count": 1,
   "id": "35c26935",
   "metadata": {},
   "outputs": [],
   "source": [
    "import numpy\n",
    "import os\n",
    "os.environ[\"OMP_NUM_THREADS\"] = \"1\""
   ]
  },
  {
   "cell_type": "code",
   "execution_count": 2,
   "id": "17339c5e",
   "metadata": {},
   "outputs": [
    {
     "data": {
      "text/html": [
       "<div>\n",
       "<style scoped>\n",
       "    .dataframe tbody tr th:only-of-type {\n",
       "        vertical-align: middle;\n",
       "    }\n",
       "\n",
       "    .dataframe tbody tr th {\n",
       "        vertical-align: top;\n",
       "    }\n",
       "\n",
       "    .dataframe thead th {\n",
       "        text-align: right;\n",
       "    }\n",
       "</style>\n",
       "<table border=\"1\" class=\"dataframe\">\n",
       "  <thead>\n",
       "    <tr style=\"text-align: right;\">\n",
       "      <th></th>\n",
       "      <th>Ad</th>\n",
       "      <th>Yas</th>\n",
       "      <th>Gelir</th>\n",
       "    </tr>\n",
       "  </thead>\n",
       "  <tbody>\n",
       "    <tr>\n",
       "      <th>0</th>\n",
       "      <td>Ismail</td>\n",
       "      <td>28</td>\n",
       "      <td>5900</td>\n",
       "    </tr>\n",
       "    <tr>\n",
       "      <th>1</th>\n",
       "      <td>Kaan</td>\n",
       "      <td>42</td>\n",
       "      <td>15100</td>\n",
       "    </tr>\n",
       "    <tr>\n",
       "      <th>2</th>\n",
       "      <td>Ozben</td>\n",
       "      <td>27</td>\n",
       "      <td>5750</td>\n",
       "    </tr>\n",
       "    <tr>\n",
       "      <th>3</th>\n",
       "      <td>Galip</td>\n",
       "      <td>39</td>\n",
       "      <td>15400</td>\n",
       "    </tr>\n",
       "    <tr>\n",
       "      <th>4</th>\n",
       "      <td>Batuhan</td>\n",
       "      <td>41</td>\n",
       "      <td>15900</td>\n",
       "    </tr>\n",
       "  </tbody>\n",
       "</table>\n",
       "</div>"
      ],
      "text/plain": [
       "        Ad  Yas  Gelir\n",
       "0   Ismail   28   5900\n",
       "1     Kaan   42  15100\n",
       "2    Ozben   27   5750\n",
       "3    Galip   39  15400\n",
       "4  Batuhan   41  15900"
      ]
     },
     "execution_count": 2,
     "metadata": {},
     "output_type": "execute_result"
    }
   ],
   "source": [
    "\n",
    "from sklearn.cluster import KMeans\n",
    "import pandas as pd\n",
    "from sklearn.preprocessing import MinMaxScaler\n",
    "from matplotlib import pyplot as plt\n",
    "\n",
    "df = pd.read_csv(\"Kmeans.csv\")\n",
    "df.head()"
   ]
  },
  {
   "cell_type": "code",
   "execution_count": 3,
   "id": "617c2530",
   "metadata": {},
   "outputs": [
    {
     "data": {
      "image/png": "[encoded data removed]",
      "text/plain": [
       "<Figure size 640x480 with 1 Axes>"
      ]
     },
     "metadata": {},
     "output_type": "display_data"
    }
   ],
   "source": [
    "plt.scatter(df.Yas,df['Gelir'])\n",
    "plt.xlabel('Yas')\n",
    "plt.ylabel('Gelir')\n",
    "plt.show()\n",
    "\n",
    "# Veri setimize bir göz atalım:"
   ]
  },
  {
   "cell_type": "code",
   "execution_count": null,
   "id": "27931b28",
   "metadata": {},
   "outputs": [],
   "source": []
  },
  {
   "cell_type": "markdown",
   "id": "e5429f6e",
   "metadata": {},
   "source": [
    "### Unutmayın modelinize verileri basmadan önce mutlaka verilerinizi normalize etmelisiniz !"
   ]
  },
  {
   "cell_type": "code",
   "execution_count": 4,
   "id": "c9340885",
   "metadata": {},
   "outputs": [],
   "source": [
    "# Geçen dersimizde normalizasyonu biz kendimiz yapmıştık bu sefer sklearn kütüphaneis içinde bulunan \n",
    "# MinMaxScaler() fonksiyonunu kullanacağız:\n",
    "scaler = MinMaxScaler()\n",
    "\n",
    "scaler.fit(df[['Gelir']])\n",
    "df['Gelir'] = scaler.transform(df[['Gelir']])\n",
    "\n",
    "scaler.fit(df[['Yas']])\n",
    "df['Yas'] = scaler.transform(df[['Yas']])\n"
   ]
  },
  {
   "cell_type": "code",
   "execution_count": 5,
   "id": "b77bd1f5",
   "metadata": {},
   "outputs": [
    {
     "data": {
      "text/html": [
       "<div>\n",
       "<style scoped>\n",
       "    .dataframe tbody tr th:only-of-type {\n",
       "        vertical-align: middle;\n",
       "    }\n",
       "\n",
       "    .dataframe tbody tr th {\n",
       "        vertical-align: top;\n",
       "    }\n",
       "\n",
       "    .dataframe thead th {\n",
       "        text-align: right;\n",
       "    }\n",
       "</style>\n",
       "<table border=\"1\" class=\"dataframe\">\n",
       "  <thead>\n",
       "    <tr style=\"text-align: right;\">\n",
       "      <th></th>\n",
       "      <th>Ad</th>\n",
       "      <th>Yas</th>\n",
       "      <th>Gelir</th>\n",
       "    </tr>\n",
       "  </thead>\n",
       "  <tbody>\n",
       "    <tr>\n",
       "      <th>0</th>\n",
       "      <td>Ismail</td>\n",
       "      <td>0.117647</td>\n",
       "      <td>0.119658</td>\n",
       "    </tr>\n",
       "    <tr>\n",
       "      <th>1</th>\n",
       "      <td>Kaan</td>\n",
       "      <td>0.941176</td>\n",
       "      <td>0.905983</td>\n",
       "    </tr>\n",
       "    <tr>\n",
       "      <th>2</th>\n",
       "      <td>Ozben</td>\n",
       "      <td>0.058824</td>\n",
       "      <td>0.106838</td>\n",
       "    </tr>\n",
       "    <tr>\n",
       "      <th>3</th>\n",
       "      <td>Galip</td>\n",
       "      <td>0.764706</td>\n",
       "      <td>0.931624</td>\n",
       "    </tr>\n",
       "    <tr>\n",
       "      <th>4</th>\n",
       "      <td>Batuhan</td>\n",
       "      <td>0.882353</td>\n",
       "      <td>0.974359</td>\n",
       "    </tr>\n",
       "  </tbody>\n",
       "</table>\n",
       "</div>"
      ],
      "text/plain": [
       "        Ad       Yas     Gelir\n",
       "0   Ismail  0.117647  0.119658\n",
       "1     Kaan  0.941176  0.905983\n",
       "2    Ozben  0.058824  0.106838\n",
       "3    Galip  0.764706  0.931624\n",
       "4  Batuhan  0.882353  0.974359"
      ]
     },
     "execution_count": 5,
     "metadata": {},
     "output_type": "execute_result"
    }
   ],
   "source": [
    "df.head()"
   ]
  },
  {
   "cell_type": "code",
   "execution_count": 6,
   "id": "28cd80c1",
   "metadata": {},
   "outputs": [
    {
     "data": {
      "image/png": "[encoded data removed]",
      "text/plain": [
       "<Figure size 640x480 with 1 Axes>"
      ]
     },
     "metadata": {},
     "output_type": "display_data"
    }
   ],
   "source": [
    "# Veri setimizi scatter çizimini yapalım:\n",
    "plt.scatter(df.Yas,df['Gelir'])\n",
    "plt.show()\n"
   ]
  },
  {
   "cell_type": "code",
   "execution_count": 7,
   "id": "1f704668",
   "metadata": {},
   "outputs": [
    {
     "data": {
      "text/plain": [
       "array([1, 0, 1, 0, 0, 1, 0, 0, 0, 1, 0, 1, 1, 1, 1, 1, 2, 2, 2, 2, 1, 2,\n",
       "       2, 1])"
      ]
     },
     "execution_count": 7,
     "metadata": {},
     "output_type": "execute_result"
    }
   ],
   "source": [
    "# K = 3 için bir K-Means modeli oluşturalım:\n",
    "kmeans_modelim = KMeans(n_clusters=3)\n",
    "y_predicted = kmeans_modelim.fit_predict(df[['Yas','Gelir']])\n",
    "y_predicted"
   ]
  },
  {
   "cell_type": "code",
   "execution_count": 8,
   "id": "ba488e78",
   "metadata": {},
   "outputs": [
    {
     "data": {
      "text/html": [
       "<div>\n",
       "<style scoped>\n",
       "    .dataframe tbody tr th:only-of-type {\n",
       "        vertical-align: middle;\n",
       "    }\n",
       "\n",
       "    .dataframe tbody tr th {\n",
       "        vertical-align: top;\n",
       "    }\n",
       "\n",
       "    .dataframe thead th {\n",
       "        text-align: right;\n",
       "    }\n",
       "</style>\n",
       "<table border=\"1\" class=\"dataframe\">\n",
       "  <thead>\n",
       "    <tr style=\"text-align: right;\">\n",
       "      <th></th>\n",
       "      <th>Ad</th>\n",
       "      <th>Yas</th>\n",
       "      <th>Gelir</th>\n",
       "      <th>cluster</th>\n",
       "    </tr>\n",
       "  </thead>\n",
       "  <tbody>\n",
       "    <tr>\n",
       "      <th>0</th>\n",
       "      <td>Ismail</td>\n",
       "      <td>0.117647</td>\n",
       "      <td>0.119658</td>\n",
       "      <td>1</td>\n",
       "    </tr>\n",
       "    <tr>\n",
       "      <th>1</th>\n",
       "      <td>Kaan</td>\n",
       "      <td>0.941176</td>\n",
       "      <td>0.905983</td>\n",
       "      <td>0</td>\n",
       "    </tr>\n",
       "    <tr>\n",
       "      <th>2</th>\n",
       "      <td>Ozben</td>\n",
       "      <td>0.058824</td>\n",
       "      <td>0.106838</td>\n",
       "      <td>1</td>\n",
       "    </tr>\n",
       "    <tr>\n",
       "      <th>3</th>\n",
       "      <td>Galip</td>\n",
       "      <td>0.764706</td>\n",
       "      <td>0.931624</td>\n",
       "      <td>0</td>\n",
       "    </tr>\n",
       "    <tr>\n",
       "      <th>4</th>\n",
       "      <td>Batuhan</td>\n",
       "      <td>0.882353</td>\n",
       "      <td>0.974359</td>\n",
       "      <td>0</td>\n",
       "    </tr>\n",
       "  </tbody>\n",
       "</table>\n",
       "</div>"
      ],
      "text/plain": [
       "        Ad       Yas     Gelir  cluster\n",
       "0   Ismail  0.117647  0.119658        1\n",
       "1     Kaan  0.941176  0.905983        0\n",
       "2    Ozben  0.058824  0.106838        1\n",
       "3    Galip  0.764706  0.931624        0\n",
       "4  Batuhan  0.882353  0.974359        0"
      ]
     },
     "execution_count": 8,
     "metadata": {},
     "output_type": "execute_result"
    }
   ],
   "source": [
    "df['cluster'] = y_predicted\n",
    "df.head()"
   ]
  },
  {
   "cell_type": "code",
   "execution_count": 9,
   "id": "8cc644b4",
   "metadata": {},
   "outputs": [
    {
     "data": {
      "text/plain": [
       "array([[0.72268908, 0.89377289],\n",
       "       [0.12834225, 0.14219114],\n",
       "       [0.85294118, 0.20299145]])"
      ]
     },
     "execution_count": 9,
     "metadata": {},
     "output_type": "execute_result"
    }
   ],
   "source": [
    "# Centroidleri görelim:\n",
    "kmeans_modelim.cluster_centers_   "
   ]
  },
  {
   "cell_type": "code",
   "execution_count": 10,
   "id": "1676fd14",
   "metadata": {},
   "outputs": [
    {
     "data": {
      "text/plain": [
       "numpy.ndarray"
      ]
     },
     "execution_count": 10,
     "metadata": {},
     "output_type": "execute_result"
    }
   ],
   "source": [
    "type(kmeans_modelim.cluster_centers_)"
   ]
  },
  {
   "cell_type": "code",
   "execution_count": 11,
   "id": "b3bd4428",
   "metadata": {},
   "outputs": [
    {
     "data": {
      "image/png": "[encoded data removed]",
      "text/plain": [
       "<Figure size 640x480 with 1 Axes>"
      ]
     },
     "metadata": {},
     "output_type": "display_data"
    }
   ],
   "source": [
    "df1 = df[df.cluster==0]\n",
    "df2 = df[df.cluster==1]\n",
    "df3 = df[df.cluster==2]\n",
    "plt.xlabel('Yas')\n",
    "plt.ylabel('Gelir')\n",
    "plt.scatter(df1.Yas,df1['Gelir'],color='green')\n",
    "plt.scatter(df2.Yas,df2['Gelir'],color='red')\n",
    "plt.scatter(df3.Yas,df3['Gelir'],color='black')\n",
    "\n",
    "# kmeans_modelim.cluster_centers_ numpy 2 boyutlu array olduğu için x ve y sütunlarını kmeans_modelim.cluster_centers_[:,0] \n",
    "# ve kmeans_modelim.cluster_centers_[:,1] şeklinde scatter plot için alıyoruz:\n",
    "plt.scatter(kmeans_modelim.cluster_centers_[:,0], kmeans_modelim.cluster_centers_[:,1], color='blue', marker='X', label='centroid')\n",
    "plt.legend()\n",
    "plt.show()"
   ]
  },
  {
   "cell_type": "code",
   "execution_count": null,
   "id": "9f4a1d38",
   "metadata": {},
   "outputs": [],
   "source": []
  },
  {
   "cell_type": "code",
   "execution_count": 12,
   "id": "21f41145",
   "metadata": {},
   "outputs": [
    {
     "data": {
      "text/html": [
       "<div>\n",
       "<style scoped>\n",
       "    .dataframe tbody tr th:only-of-type {\n",
       "        vertical-align: middle;\n",
       "    }\n",
       "\n",
       "    .dataframe tbody tr th {\n",
       "        vertical-align: top;\n",
       "    }\n",
       "\n",
       "    .dataframe thead th {\n",
       "        text-align: right;\n",
       "    }\n",
       "</style>\n",
       "<table border=\"1\" class=\"dataframe\">\n",
       "  <thead>\n",
       "    <tr style=\"text-align: right;\">\n",
       "      <th></th>\n",
       "      <th>Ad</th>\n",
       "      <th>cluster</th>\n",
       "    </tr>\n",
       "  </thead>\n",
       "  <tbody>\n",
       "    <tr>\n",
       "      <th>1</th>\n",
       "      <td>Kaan</td>\n",
       "      <td>0</td>\n",
       "    </tr>\n",
       "    <tr>\n",
       "      <th>3</th>\n",
       "      <td>Galip</td>\n",
       "      <td>0</td>\n",
       "    </tr>\n",
       "    <tr>\n",
       "      <th>4</th>\n",
       "      <td>Batuhan</td>\n",
       "      <td>0</td>\n",
       "    </tr>\n",
       "    <tr>\n",
       "      <th>6</th>\n",
       "      <td>Ali</td>\n",
       "      <td>0</td>\n",
       "    </tr>\n",
       "    <tr>\n",
       "      <th>7</th>\n",
       "      <td>Bartu</td>\n",
       "      <td>0</td>\n",
       "    </tr>\n",
       "    <tr>\n",
       "      <th>8</th>\n",
       "      <td>Ayse</td>\n",
       "      <td>0</td>\n",
       "    </tr>\n",
       "    <tr>\n",
       "      <th>10</th>\n",
       "      <td>Durmus</td>\n",
       "      <td>0</td>\n",
       "    </tr>\n",
       "    <tr>\n",
       "      <th>0</th>\n",
       "      <td>Ismail</td>\n",
       "      <td>1</td>\n",
       "    </tr>\n",
       "    <tr>\n",
       "      <th>20</th>\n",
       "      <td>Melih</td>\n",
       "      <td>1</td>\n",
       "    </tr>\n",
       "    <tr>\n",
       "      <th>15</th>\n",
       "      <td>Rauf</td>\n",
       "      <td>1</td>\n",
       "    </tr>\n",
       "    <tr>\n",
       "      <th>14</th>\n",
       "      <td>Seyma</td>\n",
       "      <td>1</td>\n",
       "    </tr>\n",
       "    <tr>\n",
       "      <th>13</th>\n",
       "      <td>Cihan</td>\n",
       "      <td>1</td>\n",
       "    </tr>\n",
       "    <tr>\n",
       "      <th>11</th>\n",
       "      <td>Talip</td>\n",
       "      <td>1</td>\n",
       "    </tr>\n",
       "    <tr>\n",
       "      <th>9</th>\n",
       "      <td>Recep</td>\n",
       "      <td>1</td>\n",
       "    </tr>\n",
       "    <tr>\n",
       "      <th>5</th>\n",
       "      <td>Muhittin</td>\n",
       "      <td>1</td>\n",
       "    </tr>\n",
       "    <tr>\n",
       "      <th>2</th>\n",
       "      <td>Ozben</td>\n",
       "      <td>1</td>\n",
       "    </tr>\n",
       "    <tr>\n",
       "      <th>12</th>\n",
       "      <td>Ahmet</td>\n",
       "      <td>1</td>\n",
       "    </tr>\n",
       "    <tr>\n",
       "      <th>23</th>\n",
       "      <td>Melih</td>\n",
       "      <td>1</td>\n",
       "    </tr>\n",
       "    <tr>\n",
       "      <th>22</th>\n",
       "      <td>Tuncer</td>\n",
       "      <td>2</td>\n",
       "    </tr>\n",
       "    <tr>\n",
       "      <th>16</th>\n",
       "      <td>Veli</td>\n",
       "      <td>2</td>\n",
       "    </tr>\n",
       "    <tr>\n",
       "      <th>17</th>\n",
       "      <td>Gurkan</td>\n",
       "      <td>2</td>\n",
       "    </tr>\n",
       "    <tr>\n",
       "      <th>18</th>\n",
       "      <td>Nihal</td>\n",
       "      <td>2</td>\n",
       "    </tr>\n",
       "    <tr>\n",
       "      <th>19</th>\n",
       "      <td>Koray</td>\n",
       "      <td>2</td>\n",
       "    </tr>\n",
       "    <tr>\n",
       "      <th>21</th>\n",
       "      <td>Seyma</td>\n",
       "      <td>2</td>\n",
       "    </tr>\n",
       "  </tbody>\n",
       "</table>\n",
       "</div>"
      ],
      "text/plain": [
       "          Ad  cluster\n",
       "1       Kaan        0\n",
       "3      Galip        0\n",
       "4    Batuhan        0\n",
       "6        Ali        0\n",
       "7      Bartu        0\n",
       "8       Ayse        0\n",
       "10    Durmus        0\n",
       "0     Ismail        1\n",
       "20     Melih        1\n",
       "15      Rauf        1\n",
       "14     Seyma        1\n",
       "13     Cihan        1\n",
       "11     Talip        1\n",
       "9      Recep        1\n",
       "5   Muhittin        1\n",
       "2      Ozben        1\n",
       "12     Ahmet        1\n",
       "23     Melih        1\n",
       "22    Tuncer        2\n",
       "16      Veli        2\n",
       "17    Gurkan        2\n",
       "18     Nihal        2\n",
       "19     Koray        2\n",
       "21     Seyma        2"
      ]
     },
     "execution_count": 12,
     "metadata": {},
     "output_type": "execute_result"
    }
   ],
   "source": [
    "# Kimlerin hangi grupta olduğunu görüntüleyelim:\n",
    "\n",
    "df.sort_values('cluster')[['Ad','cluster']]"
   ]
  },
  {
   "cell_type": "markdown",
   "id": "7e19702b",
   "metadata": {},
   "source": [
    "## K Değerini Belirlemek - Elbow Yöntemi\n"
   ]
  },
  {
   "cell_type": "code",
   "execution_count": 13,
   "id": "41da7ea3",
   "metadata": {},
   "outputs": [],
   "source": [
    "\n",
    "k_range = range(1,20)\n",
    "\n",
    "list_dist = []\n",
    "\n",
    "for k in k_range:\n",
    "    kmeans_modelim = KMeans(n_clusters=k)\n",
    "    kmeans_modelim.fit(df[['Yas','Gelir']])\n",
    "    list_dist.append(kmeans_modelim.inertia_)"
   ]
  },
  {
   "cell_type": "code",
   "execution_count": 14,
   "id": "52f6b10c",
   "metadata": {
    "scrolled": true
   },
   "outputs": [
    {
     "data": {
      "image/png": "[encoded data removed]",
      "text/plain": [
       "<Figure size 640x480 with 1 Axes>"
      ]
     },
     "metadata": {},
     "output_type": "display_data"
    }
   ],
   "source": [
    "\n",
    "plt.xlabel('K')\n",
    "plt.ylabel('Distortion değeri (inertia)')\n",
    "plt.plot(k_range,list_dist)\n",
    "plt.show()"
   ]
  },
  {
   "cell_type": "markdown",
   "id": "1840bf56",
   "metadata": {},
   "source": [
    "### Sonuç:\n",
    "\n",
    " En iyi K değeri = 3"
   ]
  },
  {
   "cell_type": "code",
   "execution_count": null,
   "id": "adc9c17b",
   "metadata": {},
   "outputs": [],
   "source": []
  },
  {
   "cell_type": "code",
   "execution_count": null,
   "id": "e34609c4",
   "metadata": {},
   "outputs": [],
   "source": []
  }
 ],
 "metadata": {
  "kernelspec": {
   "display_name": "Python 3",
   "language": "python",
   "name": "python3"
  },
  "language_info": {
   "codemirror_mode": {
    "name": "ipython",
    "version": 3
   },
   "file_extension": ".py",
   "mimetype": "text/x-python",
   "name": "python",
   "nbconvert_exporter": "python",
   "pygments_lexer": "ipython3",
   "version": "3.8.8"
  }
 },
 "nbformat": 4,
 "nbformat_minor": 5
}
