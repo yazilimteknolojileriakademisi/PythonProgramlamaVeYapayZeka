{
 "cells": [
  {
   "cell_type": "markdown",
   "id": "ce567d36",
   "metadata": {},
   "source": [
    "# OUTLIER (AYKIRI DEĞER) TESPİTİ ve VERİSETİNDEN TEMİZLENMESİ İŞLEMLERİ\n",
    "\n",
    "\n",
    "\n",
    "Outlier, bir veriseti içerisindeki diğer gözlemlerden aykırı ve sapan gözlem veya veri değerdir.\n",
    "\n",
    "Outlier Nedenleri?\n",
    "- İnsan kaynaklı hatalar (hatalı veri girişi)\n",
    "- Cihazlardan kaynaklanan hatalar (örneğin ölçüm cihazlarının nadiren de olsa yanlış değer ölçmesi)\n"
   ]
  },
  {
   "cell_type": "code",
   "execution_count": null,
   "id": "0c880cda",
   "metadata": {},
   "outputs": [],
   "source": [
    "import pandas as pd\n",
    "\n",
    "df = pd.read_csv(\"outlier_ornek_veriseti.csv\", sep=';')\n",
    "df"
   ]
  },
  {
   "cell_type": "code",
   "execution_count": null,
   "id": "5951cfaf",
   "metadata": {},
   "outputs": [],
   "source": [
    "df.describe()"
   ]
  },
  {
   "cell_type": "markdown",
   "id": "7e1e2f06",
   "metadata": {},
   "source": [
    "### Q1 (%25 percentile hesaplama)"
   ]
  },
  {
   "cell_type": "code",
   "execution_count": null,
   "id": "9cefd28d",
   "metadata": {},
   "outputs": [],
   "source": [
    "Q1 = df.boy.quantile(0.25)\n",
    "Q1"
   ]
  },
  {
   "cell_type": "markdown",
   "id": "eb0bffdd",
   "metadata": {},
   "source": [
    "### Q3 (%75 percentile hesaplama)"
   ]
  },
  {
   "cell_type": "code",
   "execution_count": null,
   "id": "3a82cc42",
   "metadata": {},
   "outputs": [],
   "source": [
    "Q3 = df.boy.quantile(0.75)\n",
    "Q3"
   ]
  },
  {
   "cell_type": "code",
   "execution_count": null,
   "id": "52bbc9fd",
   "metadata": {},
   "outputs": [],
   "source": [
    "#Median\n",
    "Q2 = df.boy.quantile(0.50)\n",
    "Q2"
   ]
  },
  {
   "cell_type": "code",
   "execution_count": null,
   "id": "75db6057",
   "metadata": {},
   "outputs": [],
   "source": [
    "IQR_degeri = Q3 - Q1\n",
    "IQR_degeri"
   ]
  },
  {
   "cell_type": "markdown",
   "id": "2e770372",
   "metadata": {},
   "source": [
    "### Alt Limit ve Üst Limit Hesaplama"
   ]
  },
  {
   "cell_type": "code",
   "execution_count": null,
   "id": "9c587615",
   "metadata": {},
   "outputs": [],
   "source": [
    "alt_limit = Q1 - 1.5*IQR_degeri"
   ]
  },
  {
   "cell_type": "code",
   "execution_count": null,
   "id": "4741221c",
   "metadata": {},
   "outputs": [],
   "source": [
    "alt_limit"
   ]
  },
  {
   "cell_type": "code",
   "execution_count": null,
   "id": "a1853684",
   "metadata": {},
   "outputs": [],
   "source": [
    "ust_limit = Q3 + 1.5*IQR_degeri"
   ]
  },
  {
   "cell_type": "code",
   "execution_count": null,
   "id": "36384eb6",
   "metadata": {},
   "outputs": [],
   "source": [
    "ust_limit"
   ]
  },
  {
   "cell_type": "markdown",
   "id": "10d55bdf",
   "metadata": {},
   "source": [
    "### Alt ve Üst Limitleri Hesapladığımıza Göre Verisetimizdeki Outlier (Aykırı) Değerleri Bulabiliriz:"
   ]
  },
  {
   "cell_type": "code",
   "execution_count": null,
   "id": "93dbd3c5",
   "metadata": {},
   "outputs": [],
   "source": [
    "df[(df.boy < alt_limit) | (df.boy > ust_limit)]"
   ]
  },
  {
   "cell_type": "markdown",
   "id": "a460003b",
   "metadata": {},
   "source": [
    "#### Bu değerler Outlier değerleridir. İstatistiksel hesaplamalarımızın (ve tabiki bir çok yapay zeka algoritmasının) daha verimli ve etkin çalışabilmesi ve doğru sonuçlar üretebilmesi için Outlier değerleri verisetimizden çıkaracağız.."
   ]
  },
  {
   "cell_type": "code",
   "execution_count": null,
   "id": "5d487783",
   "metadata": {},
   "outputs": [],
   "source": []
  },
  {
   "cell_type": "markdown",
   "id": "2579ecef",
   "metadata": {},
   "source": [
    "### Outlier Değerlerinin Verisetimizden Çıkarılması"
   ]
  },
  {
   "cell_type": "code",
   "execution_count": null,
   "id": "92a57441",
   "metadata": {},
   "outputs": [],
   "source": [
    "df_outlier_filtrelenmis = df[(df.boy > alt_limit) & (df.boy < ust_limit)]\n"
   ]
  },
  {
   "cell_type": "code",
   "execution_count": null,
   "id": "8d8201c5",
   "metadata": {},
   "outputs": [],
   "source": [
    "df_outlier_filtrelenmis"
   ]
  },
  {
   "cell_type": "code",
   "execution_count": null,
   "id": "978552a5",
   "metadata": {},
   "outputs": [],
   "source": []
  }
 ],
 "metadata": {
  "kernelspec": {
   "display_name": "Python 3",
   "language": "python",
   "name": "python3"
  },
  "language_info": {
   "codemirror_mode": {
    "name": "ipython",
    "version": 3
   },
   "file_extension": ".py",
   "mimetype": "text/x-python",
   "name": "python",
   "nbconvert_exporter": "python",
   "pygments_lexer": "ipython3",
   "version": "3.8.8"
  }
 },
 "nbformat": 4,
 "nbformat_minor": 5
}
