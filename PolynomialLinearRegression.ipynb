{
 "cells": [
  {
   "cell_type": "markdown",
   "id": "ed73d491",
   "metadata": {},
   "source": [
    "# Polynomial Linear Regression\n",
    "\n",
    "Polynomial Linear Regression Genel Formülü:\n",
    "\n",
    "y = a + b1*x + b2*x^2 + b3*x^3 + b4*x^4 + ....... + bN*x^N\n"
   ]
  },
  {
   "cell_type": "code",
   "execution_count": 8,
   "id": "211abf15",
   "metadata": {},
   "outputs": [],
   "source": [
    "import pandas as pd\n",
    "import matplotlib.pyplot as plt\n",
    "from sklearn.linear_model import LinearRegression\n",
    "from sklearn.preprocessing import PolynomialFeatures\n",
    "\n",
    "\n",
    "# Veri setimizi pandas yardımıyla alıp dataframe nesnemiz olan df'in içine aktarıyoruz..\n",
    "df = pd.read_csv(\"polynomial.csv\",sep = \";\")\n",
    "\n",
    "\n",
    "\n",
    "\n"
   ]
  },
  {
   "cell_type": "code",
   "execution_count": 2,
   "id": "ef93b415",
   "metadata": {},
   "outputs": [
    {
     "data": {
      "text/html": [
       "<div>\n",
       "<style scoped>\n",
       "    .dataframe tbody tr th:only-of-type {\n",
       "        vertical-align: middle;\n",
       "    }\n",
       "\n",
       "    .dataframe tbody tr th {\n",
       "        vertical-align: top;\n",
       "    }\n",
       "\n",
       "    .dataframe thead th {\n",
       "        text-align: right;\n",
       "    }\n",
       "</style>\n",
       "<table border=\"1\" class=\"dataframe\">\n",
       "  <thead>\n",
       "    <tr style=\"text-align: right;\">\n",
       "      <th></th>\n",
       "      <th>deneyim</th>\n",
       "      <th>maas</th>\n",
       "    </tr>\n",
       "  </thead>\n",
       "  <tbody>\n",
       "    <tr>\n",
       "      <th>0</th>\n",
       "      <td>1</td>\n",
       "      <td>4500</td>\n",
       "    </tr>\n",
       "    <tr>\n",
       "      <th>1</th>\n",
       "      <td>2</td>\n",
       "      <td>5000</td>\n",
       "    </tr>\n",
       "    <tr>\n",
       "      <th>2</th>\n",
       "      <td>3</td>\n",
       "      <td>6000</td>\n",
       "    </tr>\n",
       "    <tr>\n",
       "      <th>3</th>\n",
       "      <td>4</td>\n",
       "      <td>8000</td>\n",
       "    </tr>\n",
       "    <tr>\n",
       "      <th>4</th>\n",
       "      <td>5</td>\n",
       "      <td>11000</td>\n",
       "    </tr>\n",
       "    <tr>\n",
       "      <th>5</th>\n",
       "      <td>6</td>\n",
       "      <td>15000</td>\n",
       "    </tr>\n",
       "    <tr>\n",
       "      <th>6</th>\n",
       "      <td>7</td>\n",
       "      <td>20000</td>\n",
       "    </tr>\n",
       "    <tr>\n",
       "      <th>7</th>\n",
       "      <td>8</td>\n",
       "      <td>30000</td>\n",
       "    </tr>\n",
       "    <tr>\n",
       "      <th>8</th>\n",
       "      <td>9</td>\n",
       "      <td>50000</td>\n",
       "    </tr>\n",
       "    <tr>\n",
       "      <th>9</th>\n",
       "      <td>10</td>\n",
       "      <td>100000</td>\n",
       "    </tr>\n",
       "  </tbody>\n",
       "</table>\n",
       "</div>"
      ],
      "text/plain": [
       "   deneyim    maas\n",
       "0        1    4500\n",
       "1        2    5000\n",
       "2        3    6000\n",
       "3        4    8000\n",
       "4        5   11000\n",
       "5        6   15000\n",
       "6        7   20000\n",
       "7        8   30000\n",
       "8        9   50000\n",
       "9       10  100000"
      ]
     },
     "execution_count": 2,
     "metadata": {},
     "output_type": "execute_result"
    }
   ],
   "source": [
    "df"
   ]
  },
  {
   "cell_type": "code",
   "execution_count": 3,
   "id": "3fec2938",
   "metadata": {},
   "outputs": [
    {
     "data": {
      "image/png": "[encoded data removed]",
      "text/plain": [
       "<Figure size 432x288 with 1 Axes>"
      ]
     },
     "metadata": {
      "needs_background": "light"
     },
     "output_type": "display_data"
    }
   ],
   "source": [
    "\n",
    "# Veri setimize bir bakalım\n",
    "plt.scatter(df['deneyim'],df['maas'])\n",
    "plt.xlabel('Deneyim (yıl)')\n",
    "plt.ylabel('Maaş')\n",
    "plt.savefig('1.png', dpi=300)\n",
    "plt.show()"
   ]
  },
  {
   "cell_type": "code",
   "execution_count": 4,
   "id": "14a04724",
   "metadata": {},
   "outputs": [
    {
     "data": {
      "image/png": "[encoded data removed]",
      "text/plain": [
       "<Figure size 432x288 with 1 Axes>"
      ]
     },
     "metadata": {
      "needs_background": "light"
     },
     "output_type": "display_data"
    }
   ],
   "source": [
    "# Görüldüğü gibi doğrusal bir yapıda dağılmıyor veriler\n",
    "# Eğer biz bu veri setine linear regression uygularsak hiç uygun olmayan bir tahmin çizigisi görürüz:\n",
    "\n",
    "reg = LinearRegression()\n",
    "reg.fit(df[['deneyim']],df['maas'])\n",
    "\n",
    "plt.xlabel('Deneyim (yıl)')\n",
    "plt.ylabel('Maaş')\n",
    "\n",
    "plt.scatter(df['deneyim'],df['maas'])   \n",
    "\n",
    "xekseni = df['deneyim']\n",
    "yekseni = reg.predict(df[['deneyim']])\n",
    "plt.plot(xekseni, yekseni,color= \"green\", label = \"linear regression\")\n",
    "plt.legend()\n",
    "plt.show()"
   ]
  },
  {
   "cell_type": "markdown",
   "id": "7fd6d0ec",
   "metadata": {},
   "source": [
    "#### Tahmin için çok kötü bir doğru, demek ki neymiş: Bu veri seti için lineer regresyon uygulamak doğru değilmiş. Unutmayın veri setinize göre model seçeceksiniz arkadaşlar ! Öncelikle veri setinize çok iyi hakim olmalı ve bilmelisiniz !!!\n",
    "\n"
   ]
  },
  {
   "cell_type": "markdown",
   "id": "ea5bf2bb",
   "metadata": {},
   "source": [
    "### Bu veri seti için regression çeşitlerinden polynomial regression uygulanması gerektiğine kara verdik. Şimdi nasıl uyguladığımıza bakalım:"
   ]
  },
  {
   "cell_type": "markdown",
   "id": "45d9b774",
   "metadata": {},
   "source": [
    "\n",
    "x değerimizi polinom yukardaki fonksiyonuna uyacak şekilde uyarlanmasını sağlıyoruz\n",
    "\n",
    "\n",
    "Yani => 1, x, x^2 (N=2) şeklinde"
   ]
  },
  {
   "cell_type": "code",
   "execution_count": 15,
   "id": "fab371e1",
   "metadata": {},
   "outputs": [],
   "source": [
    "# bir adet polynomial regression nesnesi oluşturması için PolynomialFeatures fonksiyonunu çağırıyoruz\n",
    "# Bu fonksiyonu çağırırken polinomun derecesini (N) belirtiyoruz:\n",
    "polynomial_regression = PolynomialFeatures(degree = 4)\n",
    "\n",
    "x_polynomial = polynomial_regression.fit_transform(df[['deneyim']])\n",
    "\n"
   ]
  },
  {
   "cell_type": "code",
   "execution_count": 16,
   "id": "67daac47",
   "metadata": {},
   "outputs": [
    {
     "data": {
      "text/plain": [
       "LinearRegression()"
      ]
     },
     "execution_count": 16,
     "metadata": {},
     "output_type": "execute_result"
    }
   ],
   "source": [
    "# regression model nesnemizi olan reg nesnemizi oluşturup bunun fit metonu çağırarak x_polynomial ve y eksenlerini fit ediyor\n",
    "# yani regresyon modelimizi mevcut gerçek verilerle eğitiyoruz:\n",
    "reg = LinearRegression()\n",
    "reg.fit(x_polynomial,df['maas'])\n",
    "\n"
   ]
  },
  {
   "cell_type": "markdown",
   "id": "26367a07",
   "metadata": {},
   "source": [
    "### Artık modelimiz hazır ve eğitilmiş, şimdi eldeki verilere göre modelimiz nasıl bir sonuç grafiği oluşturuyor onu görelim:"
   ]
  },
  {
   "cell_type": "code",
   "execution_count": 17,
   "id": "6249d0c0",
   "metadata": {},
   "outputs": [
    {
     "data": {
      "image/png": "[encoded data removed]",
      "text/plain": [
       "<Figure size 432x288 with 1 Axes>"
      ]
     },
     "metadata": {
      "needs_background": "light"
     },
     "output_type": "display_data"
    }
   ],
   "source": [
    "y_head = reg.predict(x_polynomial)\n",
    "plt.plot(df['deneyim'],y_head,color= \"red\",label = \"polynomial regression\")\n",
    "#plt.plot(xekseni, yekseni,color= \"green\", label = \"linear regression\")\n",
    "plt.legend()\n",
    "\n",
    "#veri setimizi de noktlaı olarak scatter edelim de görelim bakalım uymuş mu polynomial regression:\n",
    "plt.scatter(df['deneyim'],df['maas'])   \n",
    "\n",
    "plt.show()"
   ]
  },
  {
   "cell_type": "markdown",
   "id": "4ddda49d",
   "metadata": {},
   "source": [
    "Gördüğünüz gibi kesinlikle uymuş diyebiliriz, polynomial regression doğru bir seçim.\n",
    "Şimdi bir de N=3 veya 4 yapıp görelim polinom derecesini artırdığımızda daha güzel fit edecek mi acaba?"
   ]
  },
  {
   "cell_type": "code",
   "execution_count": null,
   "id": "38cba03f",
   "metadata": {},
   "outputs": [],
   "source": []
  },
  {
   "cell_type": "code",
   "execution_count": 18,
   "id": "b9ec9e58",
   "metadata": {},
   "outputs": [
    {
     "data": {
      "text/plain": [
       "array([10958.21496212])"
      ]
     },
     "execution_count": 18,
     "metadata": {},
     "output_type": "execute_result"
    }
   ],
   "source": [
    "\n",
    "x_polynomial1 = polynomial_regression.fit_transform([[4.5]])\n",
    "reg.predict(x_polynomial1)"
   ]
  },
  {
   "cell_type": "markdown",
   "id": "a1bccc67",
   "metadata": {},
   "source": [
    "#### Alacağı maaş çok güzel bir şekilde şirket politikasına fit etmiş oluyor hakkı yenmeden ! :)"
   ]
  },
  {
   "cell_type": "code",
   "execution_count": null,
   "id": "674f1fb5",
   "metadata": {},
   "outputs": [],
   "source": []
  },
  {
   "cell_type": "code",
   "execution_count": null,
   "id": "2c07ef55",
   "metadata": {},
   "outputs": [],
   "source": []
  },
  {
   "cell_type": "code",
   "execution_count": null,
   "id": "3a967364",
   "metadata": {},
   "outputs": [],
   "source": []
  },
  {
   "cell_type": "code",
   "execution_count": null,
   "id": "896a7e92",
   "metadata": {},
   "outputs": [],
   "source": []
  },
  {
   "cell_type": "code",
   "execution_count": null,
   "id": "bead8dd5",
   "metadata": {},
   "outputs": [],
   "source": []
  },
  {
   "cell_type": "code",
   "execution_count": null,
   "id": "9f131ae1",
   "metadata": {},
   "outputs": [],
   "source": []
  },
  {
   "cell_type": "code",
   "execution_count": null,
   "id": "0bb1cc24",
   "metadata": {},
   "outputs": [],
   "source": []
  },
  {
   "cell_type": "code",
   "execution_count": null,
   "id": "8c689d99",
   "metadata": {},
   "outputs": [],
   "source": []
  }
 ],
 "metadata": {
  "kernelspec": {
   "display_name": "Python 3",
   "language": "python",
   "name": "python3"
  },
  "language_info": {
   "codemirror_mode": {
    "name": "ipython",
    "version": 3
   },
   "file_extension": ".py",
   "mimetype": "text/x-python",
   "name": "python",
   "nbconvert_exporter": "python",
   "pygments_lexer": "ipython3",
   "version": "3.8.8"
  }
 },
 "nbformat": 4,
 "nbformat_minor": 5
}
